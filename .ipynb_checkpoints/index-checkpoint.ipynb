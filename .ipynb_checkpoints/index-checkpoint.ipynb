{
 "cells": [
  {
   "cell_type": "markdown",
   "metadata": {
    "ExecuteTime": {
     "end_time": "2022-04-22T21:39:05.556059Z",
     "start_time": "2022-04-22T21:39:05.547916Z"
    }
   },
   "source": [
    "## Final Project Submission\n",
    "\n",
    "Please fill out:\n",
    "* Student name: Christopher Hollman\n",
    "* Student pace: self paced\n",
    "* Scheduled project review date/time: \n",
    "* Instructor name: Abhineet Kulkarni\n",
    "* Blog post URL:\n"
   ]
  },
  {
   "cell_type": "markdown",
   "metadata": {},
   "source": [
    "# Project Overview:\n",
    "\n",
    "The government of Tanzania is seeking advice as to the functionality of existing water sources throughout the county. This project aims to identify trends in water pumps/wells that are either completely nonfunctional or in need of repair in order to identify which sources are likely to need attention."
   ]
  },
  {
   "cell_type": "code",
   "execution_count": 70,
   "metadata": {
    "ExecuteTime": {
     "end_time": "2022-04-30T17:34:03.532681Z",
     "start_time": "2022-04-30T17:34:03.525495Z"
    }
   },
   "outputs": [],
   "source": [
    "import pandas as pd\n",
    "import seaborn as sns\n",
    "import matplotlib.pyplot as plt\n",
    "%matplotlib inline"
   ]
  },
  {
   "cell_type": "code",
   "execution_count": 54,
   "metadata": {
    "ExecuteTime": {
     "end_time": "2022-04-30T17:18:39.438244Z",
     "start_time": "2022-04-30T17:18:39.130060Z"
    }
   },
   "outputs": [],
   "source": [
    "training_labels = pd.read_csv('data/training_set_labels.csv')\n",
    "training_values = pd.read_csv('data/training_set_values.csv')"
   ]
  },
  {
   "cell_type": "code",
   "execution_count": 55,
   "metadata": {
    "ExecuteTime": {
     "end_time": "2022-04-30T17:18:39.441493Z",
     "start_time": "2022-04-30T17:18:39.439341Z"
    },
    "scrolled": true
   },
   "outputs": [
    {
     "data": {
      "text/plain": [
       "Index(['id', 'status_group'], dtype='object')"
      ]
     },
     "execution_count": 55,
     "metadata": {},
     "output_type": "execute_result"
    }
   ],
   "source": [
    "training_labels.columns"
   ]
  },
  {
   "cell_type": "code",
   "execution_count": 79,
   "metadata": {
    "ExecuteTime": {
     "end_time": "2022-04-30T17:52:08.890868Z",
     "start_time": "2022-04-30T17:52:08.867735Z"
    }
   },
   "outputs": [
    {
     "data": {
      "text/plain": [
       "functional                 32259\n",
       "non functional             22824\n",
       "functional needs repair     4317\n",
       "Name: status_group, dtype: int64"
      ]
     },
     "execution_count": 79,
     "metadata": {},
     "output_type": "execute_result"
    }
   ],
   "source": [
    "training_labels.status_group.value_counts()"
   ]
  },
  {
   "cell_type": "code",
   "execution_count": 170,
   "metadata": {
    "ExecuteTime": {
     "end_time": "2022-04-30T18:54:10.263612Z",
     "start_time": "2022-04-30T18:54:10.215884Z"
    }
   },
   "outputs": [],
   "source": [
    "label_conversions = {\n",
    "    'functional':0,\n",
    "    'functional needs repair':1,\n",
    "    'non functional':1\n",
    "}\n",
    "y = training_labels['status_group'].replace(label_conversions) "
   ]
  },
  {
   "cell_type": "code",
   "execution_count": 56,
   "metadata": {
    "ExecuteTime": {
     "end_time": "2022-04-30T17:18:39.514837Z",
     "start_time": "2022-04-30T17:18:39.510148Z"
    },
    "scrolled": true
   },
   "outputs": [
    {
     "data": {
      "text/plain": [
       "id                         int64\n",
       "amount_tsh               float64\n",
       "date_recorded             object\n",
       "funder                    object\n",
       "gps_height                 int64\n",
       "installer                 object\n",
       "longitude                float64\n",
       "latitude                 float64\n",
       "wpt_name                  object\n",
       "num_private                int64\n",
       "basin                     object\n",
       "subvillage                object\n",
       "region                    object\n",
       "region_code                int64\n",
       "district_code              int64\n",
       "lga                       object\n",
       "ward                      object\n",
       "population                 int64\n",
       "public_meeting            object\n",
       "recorded_by               object\n",
       "scheme_management         object\n",
       "scheme_name               object\n",
       "permit                    object\n",
       "construction_year          int64\n",
       "extraction_type           object\n",
       "extraction_type_group     object\n",
       "extraction_type_class     object\n",
       "management                object\n",
       "management_group          object\n",
       "payment                   object\n",
       "payment_type              object\n",
       "water_quality             object\n",
       "quality_group             object\n",
       "quantity                  object\n",
       "quantity_group            object\n",
       "source                    object\n",
       "source_type               object\n",
       "source_class              object\n",
       "waterpoint_type           object\n",
       "waterpoint_type_group     object\n",
       "dtype: object"
      ]
     },
     "execution_count": 56,
     "metadata": {},
     "output_type": "execute_result"
    }
   ],
   "source": [
    "training_values.dtypes"
   ]
  },
  {
   "cell_type": "code",
   "execution_count": 134,
   "metadata": {
    "ExecuteTime": {
     "end_time": "2022-04-30T18:32:44.605021Z",
     "start_time": "2022-04-30T18:32:44.600881Z"
    }
   },
   "outputs": [],
   "source": [
    "unusable_columns = ['date_recorded', 'gps_height', 'wpt_name', 'num_private', \n",
    "                    'subvillage', 'lga', 'ward', 'recorded_by', 'extraction_type_group', \n",
    "                    'extraction_type', 'scheme_name', 'management', 'waterpoint_type_group', \n",
    "                    'source', 'source_class', 'quantity_group', 'quality_group', \n",
    "                    'payment_type', 'latitude', 'longitude']"
   ]
  },
  {
   "cell_type": "code",
   "execution_count": 135,
   "metadata": {
    "ExecuteTime": {
     "end_time": "2022-04-30T18:32:46.565537Z",
     "start_time": "2022-04-30T18:32:46.535011Z"
    },
    "scrolled": true
   },
   "outputs": [
    {
     "data": {
      "text/plain": [
       "Index(['id', 'amount_tsh', 'funder', 'installer', 'basin', 'region',\n",
       "       'region_code', 'district_code', 'population', 'public_meeting',\n",
       "       'scheme_management', 'permit', 'construction_year',\n",
       "       'extraction_type_class', 'management_group', 'payment', 'water_quality',\n",
       "       'quantity', 'source_type', 'waterpoint_type'],\n",
       "      dtype='object')"
      ]
     },
     "execution_count": 135,
     "metadata": {},
     "output_type": "execute_result"
    }
   ],
   "source": [
    "X_vals = training_values.drop(unusable_columns, axis=1)\n",
    "X_vals.columns"
   ]
  },
  {
   "cell_type": "code",
   "execution_count": 59,
   "metadata": {
    "ExecuteTime": {
     "end_time": "2022-04-30T17:18:40.280759Z",
     "start_time": "2022-04-30T17:18:40.207971Z"
    },
    "scrolled": false
   },
   "outputs": [
    {
     "data": {
      "text/plain": [
       "id                          0\n",
       "amount_tsh                  0\n",
       "funder                   3635\n",
       "installer                3655\n",
       "basin                       0\n",
       "region                      0\n",
       "region_code                 0\n",
       "district_code               0\n",
       "population                  0\n",
       "public_meeting           3334\n",
       "scheme_management        3877\n",
       "permit                   3056\n",
       "construction_year           0\n",
       "extraction_type_class       0\n",
       "management_group            0\n",
       "payment                     0\n",
       "water_quality               0\n",
       "quantity                    0\n",
       "source_type                 0\n",
       "waterpoint_type             0\n",
       "dtype: int64"
      ]
     },
     "execution_count": 59,
     "metadata": {},
     "output_type": "execute_result"
    }
   ],
   "source": [
    "X_vals.isna().sum()"
   ]
  },
  {
   "cell_type": "code",
   "execution_count": 166,
   "metadata": {
    "ExecuteTime": {
     "end_time": "2022-04-30T18:46:51.947490Z",
     "start_time": "2022-04-30T18:46:51.900508Z"
    }
   },
   "outputs": [
    {
     "data": {
      "text/html": [
       "<div>\n",
       "<style scoped>\n",
       "    .dataframe tbody tr th:only-of-type {\n",
       "        vertical-align: middle;\n",
       "    }\n",
       "\n",
       "    .dataframe tbody tr th {\n",
       "        vertical-align: top;\n",
       "    }\n",
       "\n",
       "    .dataframe thead th {\n",
       "        text-align: right;\n",
       "    }\n",
       "</style>\n",
       "<table border=\"1\" class=\"dataframe\">\n",
       "  <thead>\n",
       "    <tr style=\"text-align: right;\">\n",
       "      <th></th>\n",
       "      <th>id</th>\n",
       "      <th>amount_tsh</th>\n",
       "      <th>funder</th>\n",
       "      <th>installer</th>\n",
       "      <th>basin</th>\n",
       "      <th>region</th>\n",
       "      <th>region_code</th>\n",
       "      <th>district_code</th>\n",
       "      <th>population</th>\n",
       "      <th>public_meeting</th>\n",
       "      <th>scheme_management</th>\n",
       "      <th>permit</th>\n",
       "      <th>construction_year</th>\n",
       "      <th>extraction_type_class</th>\n",
       "      <th>management_group</th>\n",
       "      <th>payment</th>\n",
       "      <th>water_quality</th>\n",
       "      <th>quantity</th>\n",
       "      <th>source_type</th>\n",
       "      <th>waterpoint_type</th>\n",
       "    </tr>\n",
       "  </thead>\n",
       "  <tbody>\n",
       "    <tr>\n",
       "      <th>3</th>\n",
       "      <td>67743</td>\n",
       "      <td>0.0</td>\n",
       "      <td>Unicef</td>\n",
       "      <td>UNICEF</td>\n",
       "      <td>Ruvuma / Southern Coast</td>\n",
       "      <td>Mtwara</td>\n",
       "      <td>90</td>\n",
       "      <td>63</td>\n",
       "      <td>58</td>\n",
       "      <td>1</td>\n",
       "      <td>VWC</td>\n",
       "      <td>1</td>\n",
       "      <td>1986</td>\n",
       "      <td>submersible</td>\n",
       "      <td>user-group</td>\n",
       "      <td>never pay</td>\n",
       "      <td>soft</td>\n",
       "      <td>dry</td>\n",
       "      <td>borehole</td>\n",
       "      <td>communal standpipe multiple</td>\n",
       "    </tr>\n",
       "    <tr>\n",
       "      <th>16</th>\n",
       "      <td>48451</td>\n",
       "      <td>500.0</td>\n",
       "      <td>Unicef</td>\n",
       "      <td>DWE</td>\n",
       "      <td>Rufiji</td>\n",
       "      <td>Iringa</td>\n",
       "      <td>11</td>\n",
       "      <td>4</td>\n",
       "      <td>35</td>\n",
       "      <td>1</td>\n",
       "      <td>WUA</td>\n",
       "      <td>1</td>\n",
       "      <td>1978</td>\n",
       "      <td>gravity</td>\n",
       "      <td>user-group</td>\n",
       "      <td>pay monthly</td>\n",
       "      <td>soft</td>\n",
       "      <td>dry</td>\n",
       "      <td>river/lake</td>\n",
       "      <td>communal standpipe</td>\n",
       "    </tr>\n",
       "    <tr>\n",
       "      <th>17</th>\n",
       "      <td>58155</td>\n",
       "      <td>0.0</td>\n",
       "      <td>Unicef</td>\n",
       "      <td>DWE</td>\n",
       "      <td>Rufiji</td>\n",
       "      <td>Iringa</td>\n",
       "      <td>11</td>\n",
       "      <td>4</td>\n",
       "      <td>50</td>\n",
       "      <td>1</td>\n",
       "      <td>WUA</td>\n",
       "      <td>1</td>\n",
       "      <td>1978</td>\n",
       "      <td>gravity</td>\n",
       "      <td>user-group</td>\n",
       "      <td>pay when scheme fails</td>\n",
       "      <td>soft</td>\n",
       "      <td>dry</td>\n",
       "      <td>river/lake</td>\n",
       "      <td>communal standpipe</td>\n",
       "    </tr>\n",
       "    <tr>\n",
       "      <th>36</th>\n",
       "      <td>67359</td>\n",
       "      <td>0.0</td>\n",
       "      <td>Danida</td>\n",
       "      <td>Central government</td>\n",
       "      <td>Lake Nyasa</td>\n",
       "      <td>Mbeya</td>\n",
       "      <td>12</td>\n",
       "      <td>3</td>\n",
       "      <td>0</td>\n",
       "      <td>1</td>\n",
       "      <td>VWC</td>\n",
       "      <td>1</td>\n",
       "      <td>2000</td>\n",
       "      <td>gravity</td>\n",
       "      <td>user-group</td>\n",
       "      <td>never pay</td>\n",
       "      <td>soft</td>\n",
       "      <td>dry</td>\n",
       "      <td>spring</td>\n",
       "      <td>communal standpipe</td>\n",
       "    </tr>\n",
       "    <tr>\n",
       "      <th>43</th>\n",
       "      <td>19282</td>\n",
       "      <td>0.0</td>\n",
       "      <td>Other</td>\n",
       "      <td>Other</td>\n",
       "      <td>Internal</td>\n",
       "      <td>Singida</td>\n",
       "      <td>13</td>\n",
       "      <td>2</td>\n",
       "      <td>1</td>\n",
       "      <td>1</td>\n",
       "      <td>VWC</td>\n",
       "      <td>1</td>\n",
       "      <td>1980</td>\n",
       "      <td>motorpump</td>\n",
       "      <td>user-group</td>\n",
       "      <td>unknown</td>\n",
       "      <td>unknown</td>\n",
       "      <td>dry</td>\n",
       "      <td>borehole</td>\n",
       "      <td>communal standpipe</td>\n",
       "    </tr>\n",
       "    <tr>\n",
       "      <th>...</th>\n",
       "      <td>...</td>\n",
       "      <td>...</td>\n",
       "      <td>...</td>\n",
       "      <td>...</td>\n",
       "      <td>...</td>\n",
       "      <td>...</td>\n",
       "      <td>...</td>\n",
       "      <td>...</td>\n",
       "      <td>...</td>\n",
       "      <td>...</td>\n",
       "      <td>...</td>\n",
       "      <td>...</td>\n",
       "      <td>...</td>\n",
       "      <td>...</td>\n",
       "      <td>...</td>\n",
       "      <td>...</td>\n",
       "      <td>...</td>\n",
       "      <td>...</td>\n",
       "      <td>...</td>\n",
       "      <td>...</td>\n",
       "    </tr>\n",
       "    <tr>\n",
       "      <th>59336</th>\n",
       "      <td>58233</td>\n",
       "      <td>100.0</td>\n",
       "      <td>Adb</td>\n",
       "      <td>DWE</td>\n",
       "      <td>Rufiji</td>\n",
       "      <td>Iringa</td>\n",
       "      <td>11</td>\n",
       "      <td>4</td>\n",
       "      <td>50</td>\n",
       "      <td>1</td>\n",
       "      <td>VWC</td>\n",
       "      <td>1</td>\n",
       "      <td>2007</td>\n",
       "      <td>gravity</td>\n",
       "      <td>user-group</td>\n",
       "      <td>pay per bucket</td>\n",
       "      <td>soft</td>\n",
       "      <td>dry</td>\n",
       "      <td>spring</td>\n",
       "      <td>communal standpipe</td>\n",
       "    </tr>\n",
       "    <tr>\n",
       "      <th>59352</th>\n",
       "      <td>32775</td>\n",
       "      <td>0.0</td>\n",
       "      <td>Other</td>\n",
       "      <td>Other</td>\n",
       "      <td>Lake Nyasa</td>\n",
       "      <td>Mbeya</td>\n",
       "      <td>12</td>\n",
       "      <td>3</td>\n",
       "      <td>0</td>\n",
       "      <td>1</td>\n",
       "      <td>VWC</td>\n",
       "      <td>1</td>\n",
       "      <td>2000</td>\n",
       "      <td>gravity</td>\n",
       "      <td>user-group</td>\n",
       "      <td>never pay</td>\n",
       "      <td>soft</td>\n",
       "      <td>dry</td>\n",
       "      <td>spring</td>\n",
       "      <td>communal standpipe</td>\n",
       "    </tr>\n",
       "    <tr>\n",
       "      <th>59357</th>\n",
       "      <td>46563</td>\n",
       "      <td>0.0</td>\n",
       "      <td>Other</td>\n",
       "      <td>Other</td>\n",
       "      <td>Internal</td>\n",
       "      <td>Singida</td>\n",
       "      <td>13</td>\n",
       "      <td>2</td>\n",
       "      <td>1</td>\n",
       "      <td>1</td>\n",
       "      <td>VWC</td>\n",
       "      <td>0</td>\n",
       "      <td>1980</td>\n",
       "      <td>handpump</td>\n",
       "      <td>user-group</td>\n",
       "      <td>unknown</td>\n",
       "      <td>unknown</td>\n",
       "      <td>dry</td>\n",
       "      <td>shallow well</td>\n",
       "      <td>hand pump</td>\n",
       "    </tr>\n",
       "    <tr>\n",
       "      <th>59376</th>\n",
       "      <td>34716</td>\n",
       "      <td>0.0</td>\n",
       "      <td>Other</td>\n",
       "      <td>Other</td>\n",
       "      <td>Internal</td>\n",
       "      <td>Singida</td>\n",
       "      <td>13</td>\n",
       "      <td>2</td>\n",
       "      <td>1</td>\n",
       "      <td>1</td>\n",
       "      <td>VWC</td>\n",
       "      <td>1</td>\n",
       "      <td>1990</td>\n",
       "      <td>other</td>\n",
       "      <td>user-group</td>\n",
       "      <td>unknown</td>\n",
       "      <td>unknown</td>\n",
       "      <td>dry</td>\n",
       "      <td>shallow well</td>\n",
       "      <td>other</td>\n",
       "    </tr>\n",
       "    <tr>\n",
       "      <th>59380</th>\n",
       "      <td>30647</td>\n",
       "      <td>6000.0</td>\n",
       "      <td>Other</td>\n",
       "      <td>Other</td>\n",
       "      <td>Lake Nyasa</td>\n",
       "      <td>Iringa</td>\n",
       "      <td>11</td>\n",
       "      <td>5</td>\n",
       "      <td>50</td>\n",
       "      <td>1</td>\n",
       "      <td>VWC</td>\n",
       "      <td>0</td>\n",
       "      <td>1999</td>\n",
       "      <td>gravity</td>\n",
       "      <td>user-group</td>\n",
       "      <td>pay annually</td>\n",
       "      <td>soft</td>\n",
       "      <td>dry</td>\n",
       "      <td>spring</td>\n",
       "      <td>communal standpipe</td>\n",
       "    </tr>\n",
       "  </tbody>\n",
       "</table>\n",
       "<p>6246 rows × 20 columns</p>\n",
       "</div>"
      ],
      "text/plain": [
       "          id  amount_tsh  funder           installer                    basin  \\\n",
       "3      67743         0.0  Unicef              UNICEF  Ruvuma / Southern Coast   \n",
       "16     48451       500.0  Unicef                 DWE                   Rufiji   \n",
       "17     58155         0.0  Unicef                 DWE                   Rufiji   \n",
       "36     67359         0.0  Danida  Central government               Lake Nyasa   \n",
       "43     19282         0.0   Other               Other                 Internal   \n",
       "...      ...         ...     ...                 ...                      ...   \n",
       "59336  58233       100.0     Adb                 DWE                   Rufiji   \n",
       "59352  32775         0.0   Other               Other               Lake Nyasa   \n",
       "59357  46563         0.0   Other               Other                 Internal   \n",
       "59376  34716         0.0   Other               Other                 Internal   \n",
       "59380  30647      6000.0   Other               Other               Lake Nyasa   \n",
       "\n",
       "        region  region_code  district_code  population  public_meeting  \\\n",
       "3       Mtwara           90             63          58               1   \n",
       "16      Iringa           11              4          35               1   \n",
       "17      Iringa           11              4          50               1   \n",
       "36       Mbeya           12              3           0               1   \n",
       "43     Singida           13              2           1               1   \n",
       "...        ...          ...            ...         ...             ...   \n",
       "59336   Iringa           11              4          50               1   \n",
       "59352    Mbeya           12              3           0               1   \n",
       "59357  Singida           13              2           1               1   \n",
       "59376  Singida           13              2           1               1   \n",
       "59380   Iringa           11              5          50               1   \n",
       "\n",
       "      scheme_management  permit  construction_year extraction_type_class  \\\n",
       "3                   VWC       1               1986           submersible   \n",
       "16                  WUA       1               1978               gravity   \n",
       "17                  WUA       1               1978               gravity   \n",
       "36                  VWC       1               2000               gravity   \n",
       "43                  VWC       1               1980             motorpump   \n",
       "...                 ...     ...                ...                   ...   \n",
       "59336               VWC       1               2007               gravity   \n",
       "59352               VWC       1               2000               gravity   \n",
       "59357               VWC       0               1980              handpump   \n",
       "59376               VWC       1               1990                 other   \n",
       "59380               VWC       0               1999               gravity   \n",
       "\n",
       "      management_group                payment water_quality quantity  \\\n",
       "3           user-group              never pay          soft      dry   \n",
       "16          user-group            pay monthly          soft      dry   \n",
       "17          user-group  pay when scheme fails          soft      dry   \n",
       "36          user-group              never pay          soft      dry   \n",
       "43          user-group                unknown       unknown      dry   \n",
       "...                ...                    ...           ...      ...   \n",
       "59336       user-group         pay per bucket          soft      dry   \n",
       "59352       user-group              never pay          soft      dry   \n",
       "59357       user-group                unknown       unknown      dry   \n",
       "59376       user-group                unknown       unknown      dry   \n",
       "59380       user-group           pay annually          soft      dry   \n",
       "\n",
       "        source_type              waterpoint_type  \n",
       "3          borehole  communal standpipe multiple  \n",
       "16       river/lake           communal standpipe  \n",
       "17       river/lake           communal standpipe  \n",
       "36           spring           communal standpipe  \n",
       "43         borehole           communal standpipe  \n",
       "...             ...                          ...  \n",
       "59336        spring           communal standpipe  \n",
       "59352        spring           communal standpipe  \n",
       "59357  shallow well                    hand pump  \n",
       "59376  shallow well                        other  \n",
       "59380        spring           communal standpipe  \n",
       "\n",
       "[6246 rows x 20 columns]"
      ]
     },
     "execution_count": 166,
     "metadata": {},
     "output_type": "execute_result"
    }
   ],
   "source": [
    "X_vals[X_vals['quantity']=='dry']"
   ]
  },
  {
   "cell_type": "code",
   "execution_count": 136,
   "metadata": {
    "ExecuteTime": {
     "end_time": "2022-04-30T18:33:15.504856Z",
     "start_time": "2022-04-30T18:33:15.490084Z"
    },
    "scrolled": true
   },
   "outputs": [
    {
     "data": {
      "text/plain": [
       "count    59400.000000\n",
       "mean       179.909983\n",
       "std        471.482176\n",
       "min          0.000000\n",
       "25%          0.000000\n",
       "50%         25.000000\n",
       "75%        215.000000\n",
       "max      30500.000000\n",
       "Name: population, dtype: float64"
      ]
     },
     "execution_count": 136,
     "metadata": {},
     "output_type": "execute_result"
    }
   ],
   "source": [
    "X_vals['population'].describe()"
   ]
  },
  {
   "cell_type": "code",
   "execution_count": 137,
   "metadata": {
    "ExecuteTime": {
     "end_time": "2022-04-30T18:33:20.071966Z",
     "start_time": "2022-04-30T18:33:20.058739Z"
    }
   },
   "outputs": [],
   "source": [
    "X_vals['scheme_management'].fillna('Unknown', inplace=True)"
   ]
  },
  {
   "cell_type": "code",
   "execution_count": 142,
   "metadata": {
    "ExecuteTime": {
     "end_time": "2022-04-30T18:34:10.351042Z",
     "start_time": "2022-04-30T18:34:10.342194Z"
    },
    "scrolled": true
   },
   "outputs": [],
   "source": [
    "\n",
    "X_vals['public_meeting'] = X_vals['public_meeting'].fillna(method='pad').astype(int)\n",
    "\n",
    "X_vals['permit'] = X_vals['permit'].fillna(method='pad').astype(int)"
   ]
  },
  {
   "cell_type": "code",
   "execution_count": 152,
   "metadata": {
    "ExecuteTime": {
     "end_time": "2022-04-30T18:39:01.031950Z",
     "start_time": "2022-04-30T18:39:01.020579Z"
    },
    "scrolled": true
   },
   "outputs": [
    {
     "name": "stdout",
     "output_type": "stream",
     "text": [
      "0       20709\n",
      "2010     2645\n",
      "2008     2613\n",
      "2009     2533\n",
      "2000     2091\n",
      "2007     1587\n",
      "2006     1471\n",
      "2003     1286\n",
      "2011     1256\n",
      "2004     1123\n",
      "2012     1084\n",
      "2002     1075\n",
      "1978     1037\n",
      "1995     1014\n",
      "2005     1011\n",
      "1999      979\n",
      "1998      966\n",
      "1990      954\n",
      "1985      945\n",
      "1980      811\n",
      "1996      811\n",
      "1984      779\n",
      "1982      744\n",
      "1994      738\n",
      "1972      708\n",
      "1974      676\n",
      "1997      644\n",
      "1992      640\n",
      "1993      608\n",
      "2001      540\n",
      "1988      521\n",
      "1983      488\n",
      "1975      437\n",
      "1986      434\n",
      "1976      414\n",
      "1970      411\n",
      "1991      324\n",
      "1989      316\n",
      "1987      302\n",
      "1981      238\n",
      "1977      202\n",
      "1979      192\n",
      "1973      184\n",
      "2013      176\n",
      "1971      145\n",
      "1960      102\n",
      "1967       88\n",
      "1963       85\n",
      "1968       77\n",
      "1969       59\n",
      "1964       40\n",
      "1962       30\n",
      "1961       21\n",
      "1965       19\n",
      "1966       17\n",
      "Name: construction_year, dtype: int64\n"
     ]
    }
   ],
   "source": [
    "print(X_vals['construction_year'].value_counts())\n",
    "X_vals['construction_year'].replace(0,2000, inplace=True)"
   ]
  },
  {
   "cell_type": "code",
   "execution_count": 153,
   "metadata": {
    "ExecuteTime": {
     "end_time": "2022-04-30T18:39:02.036908Z",
     "start_time": "2022-04-30T18:39:02.026051Z"
    }
   },
   "outputs": [
    {
     "data": {
      "text/plain": [
       "1     12203\n",
       "2     11173\n",
       "3      9998\n",
       "4      8999\n",
       "5      4356\n",
       "6      4074\n",
       "7      3343\n",
       "8      1043\n",
       "30      995\n",
       "33      874\n",
       "53      745\n",
       "43      505\n",
       "13      391\n",
       "23      293\n",
       "63      195\n",
       "62      109\n",
       "60       63\n",
       "0        23\n",
       "80       12\n",
       "67        6\n",
       "Name: district_code, dtype: int64"
      ]
     },
     "execution_count": 153,
     "metadata": {},
     "output_type": "execute_result"
    }
   ],
   "source": [
    "X_vals['district_code'].value_counts()"
   ]
  },
  {
   "cell_type": "code",
   "execution_count": 154,
   "metadata": {
    "ExecuteTime": {
     "end_time": "2022-04-30T18:39:03.268325Z",
     "start_time": "2022-04-30T18:39:03.242879Z"
    },
    "scrolled": true
   },
   "outputs": [
    {
     "data": {
      "text/plain": [
       "{'0',\n",
       " 'ACRA',\n",
       " 'AMREF',\n",
       " 'CES',\n",
       " 'Central government',\n",
       " 'Commu',\n",
       " 'Community',\n",
       " 'DANID',\n",
       " 'DANIDA',\n",
       " 'DW',\n",
       " 'DWE',\n",
       " 'District Council',\n",
       " 'District council',\n",
       " 'Dmdd',\n",
       " 'Gover',\n",
       " 'Government',\n",
       " 'HESAWA',\n",
       " 'Hesawa',\n",
       " 'KKKT',\n",
       " 'LGA',\n",
       " 'OXFAM',\n",
       " 'RWE',\n",
       " 'SEMA',\n",
       " 'TASAF',\n",
       " 'TCRS',\n",
       " 'TWESA',\n",
       " 'WEDECO',\n",
       " 'WU',\n",
       " 'World Vision',\n",
       " 'World vision'}"
      ]
     },
     "execution_count": 154,
     "metadata": {},
     "output_type": "execute_result"
    }
   ],
   "source": [
    "top_installers = set(X_vals['installer'].value_counts().index[:30].values)\n",
    "top_installers"
   ]
  },
  {
   "cell_type": "code",
   "execution_count": 159,
   "metadata": {
    "ExecuteTime": {
     "end_time": "2022-04-30T18:42:25.580366Z",
     "start_time": "2022-04-30T18:42:25.526152Z"
    }
   },
   "outputs": [
    {
     "data": {
      "text/plain": [
       "{'ACRA',\n",
       " 'AMREF',\n",
       " 'CES',\n",
       " 'Central government',\n",
       " 'Community',\n",
       " 'DANIDA',\n",
       " 'DWE',\n",
       " 'Da',\n",
       " 'District Council',\n",
       " 'Dmdd',\n",
       " 'FinW',\n",
       " 'Gove',\n",
       " 'Government',\n",
       " 'Hesawa',\n",
       " 'Idara ya maji',\n",
       " 'KKKT',\n",
       " 'Kiliwater',\n",
       " 'LGA',\n",
       " 'OXFAM',\n",
       " 'Other',\n",
       " 'RWE',\n",
       " 'SEMA',\n",
       " 'Sengerema Water Department',\n",
       " 'TASAF',\n",
       " 'TCRS',\n",
       " 'TWESA',\n",
       " 'UNICEF',\n",
       " 'WEDECO',\n",
       " 'WU',\n",
       " 'World Vision'}"
      ]
     },
     "execution_count": 159,
     "metadata": {},
     "output_type": "execute_result"
    }
   ],
   "source": [
    "installer_replace = {\n",
    "    'Commu':'Community',\n",
    "    '0':'Other',\n",
    "    'DANID':'DANIDA',\n",
    "    'District council':'District Council',\n",
    "    'DW':'DWE',\n",
    "    'Gov':'Government',\n",
    "    'Gover':'Government',\n",
    "    'Central Government':'Government',\n",
    "    'HESAWA':'Hesawa',\n",
    "    'World vision':\"World Vision\"\n",
    "}\n",
    "X_vals['installer'].replace(installer_replace, inplace=True)\n",
    "\n",
    "X_vals['funder'].replace('0', 'Other', inplace=True)\n",
    "\n",
    "top_installers = set(X_vals['installer'].value_counts().index[:30].values)\n",
    "top_installers"
   ]
  },
  {
   "cell_type": "code",
   "execution_count": 156,
   "metadata": {
    "ExecuteTime": {
     "end_time": "2022-04-30T18:39:31.567979Z",
     "start_time": "2022-04-30T18:39:31.543102Z"
    }
   },
   "outputs": [
    {
     "data": {
      "text/plain": [
       "{'Adb',\n",
       " 'Amref',\n",
       " 'Danida',\n",
       " 'Dhv',\n",
       " 'District Council',\n",
       " 'Dwe',\n",
       " 'Dwsp',\n",
       " 'Fini Water',\n",
       " 'Germany Republi',\n",
       " 'Government Of Tanzania',\n",
       " 'Hesawa',\n",
       " 'Hifab',\n",
       " 'Isf',\n",
       " 'Kkkt',\n",
       " 'Lga',\n",
       " 'Ministry Of Water',\n",
       " 'Netherlands',\n",
       " 'Norad',\n",
       " 'Other',\n",
       " 'Oxfam',\n",
       " 'Private Individual',\n",
       " 'Rc Church',\n",
       " 'Rwssp',\n",
       " 'Tasaf',\n",
       " 'Tcrs',\n",
       " 'Unicef',\n",
       " 'Water',\n",
       " 'Wateraid',\n",
       " 'World Bank',\n",
       " 'World Vision'}"
      ]
     },
     "execution_count": 156,
     "metadata": {},
     "output_type": "execute_result"
    }
   ],
   "source": [
    "top_funders = set(X_vals['funder'].value_counts().index[:30].values)\n",
    "top_funders"
   ]
  },
  {
   "cell_type": "code",
   "execution_count": 161,
   "metadata": {
    "ExecuteTime": {
     "end_time": "2022-04-30T18:43:32.677111Z",
     "start_time": "2022-04-30T18:43:28.504973Z"
    }
   },
   "outputs": [
    {
     "name": "stderr",
     "output_type": "stream",
     "text": [
      "<ipython-input-161-ccdbb32a6f99>:7: SettingWithCopyWarning: \n",
      "A value is trying to be set on a copy of a slice from a DataFrame\n",
      "\n",
      "See the caveats in the documentation: https://pandas.pydata.org/pandas-docs/stable/user_guide/indexing.html#returning-a-view-versus-a-copy\n",
      "  X_vals['funder'][i] = 'Other'\n"
     ]
    }
   ],
   "source": [
    "for i in range(len(X_vals)):\n",
    "    if X_vals['installer'][i] not in top_installers:\n",
    "        X_vals['installer'][i] = 'Other'\n",
    "\n",
    "for i in range(len(X_vals)):\n",
    "    if X_vals['funder'][i] not in top_funders:\n",
    "        X_vals['funder'][i] = 'Other'        "
   ]
  },
  {
   "cell_type": "code",
   "execution_count": 162,
   "metadata": {
    "ExecuteTime": {
     "end_time": "2022-04-30T18:44:01.984465Z",
     "start_time": "2022-04-30T18:44:01.960748Z"
    },
    "scrolled": false
   },
   "outputs": [
    {
     "data": {
      "text/plain": [
       "Other                         24459\n",
       "DWE                           17648\n",
       "Government                     2318\n",
       "Community                      1613\n",
       "DANIDA                         1602\n",
       "Hesawa                         1379\n",
       "RWE                            1206\n",
       "District Council                943\n",
       "KKKT                            898\n",
       "TCRS                            707\n",
       "World Vision                    678\n",
       "Central government              622\n",
       "CES                             610\n",
       "LGA                             408\n",
       "WEDECO                          397\n",
       "TASAF                           396\n",
       "AMREF                           329\n",
       "TWESA                           316\n",
       "WU                              301\n",
       "Dmdd                            287\n",
       "ACRA                            278\n",
       "SEMA                            249\n",
       "OXFAM                           234\n",
       "Da                              224\n",
       "Gove                            222\n",
       "Idara ya maji                   222\n",
       "UNICEF                          222\n",
       "Sengerema Water Department      214\n",
       "Kiliwater                       210\n",
       "FinW                            208\n",
       "Name: installer, dtype: int64"
      ]
     },
     "execution_count": 162,
     "metadata": {},
     "output_type": "execute_result"
    }
   ],
   "source": [
    "X_vals['installer'].value_counts()"
   ]
  },
  {
   "cell_type": "code",
   "execution_count": 163,
   "metadata": {
    "ExecuteTime": {
     "end_time": "2022-04-30T18:44:12.842540Z",
     "start_time": "2022-04-30T18:44:12.817194Z"
    }
   },
   "outputs": [
    {
     "data": {
      "text/plain": [
       "Other                     26910\n",
       "Government Of Tanzania     9084\n",
       "Danida                     3114\n",
       "Hesawa                     2202\n",
       "Rwssp                      1374\n",
       "World Bank                 1349\n",
       "Kkkt                       1287\n",
       "World Vision               1246\n",
       "Unicef                     1057\n",
       "Tasaf                       877\n",
       "District Council            843\n",
       "Dhv                         829\n",
       "Private Individual          826\n",
       "Dwsp                        811\n",
       "Norad                       765\n",
       "Germany Republi             610\n",
       "Tcrs                        602\n",
       "Ministry Of Water           590\n",
       "Water                       583\n",
       "Dwe                         484\n",
       "Netherlands                 470\n",
       "Hifab                       450\n",
       "Adb                         448\n",
       "Lga                         442\n",
       "Amref                       425\n",
       "Fini Water                  393\n",
       "Oxfam                       359\n",
       "Wateraid                    333\n",
       "Rc Church                   321\n",
       "Isf                         316\n",
       "Name: funder, dtype: int64"
      ]
     },
     "execution_count": 163,
     "metadata": {},
     "output_type": "execute_result"
    }
   ],
   "source": [
    "X_vals['funder'].value_counts()"
   ]
  },
  {
   "cell_type": "code",
   "execution_count": null,
   "metadata": {
    "ExecuteTime": {
     "end_time": "2022-04-27T19:40:05.798998Z",
     "start_time": "2022-04-27T19:40:05.778679Z"
    }
   },
   "outputs": [],
   "source": []
  },
  {
   "cell_type": "code",
   "execution_count": null,
   "metadata": {
    "ExecuteTime": {
     "end_time": "2022-04-27T19:00:17.452474Z",
     "start_time": "2022-04-27T19:00:17.162492Z"
    }
   },
   "outputs": [],
   "source": []
  },
  {
   "cell_type": "code",
   "execution_count": null,
   "metadata": {},
   "outputs": [],
   "source": []
  },
  {
   "cell_type": "code",
   "execution_count": null,
   "metadata": {},
   "outputs": [],
   "source": []
  }
 ],
 "metadata": {
  "kernelspec": {
   "display_name": "Python 3",
   "language": "python",
   "name": "python3"
  },
  "language_info": {
   "codemirror_mode": {
    "name": "ipython",
    "version": 3
   },
   "file_extension": ".py",
   "mimetype": "text/x-python",
   "name": "python",
   "nbconvert_exporter": "python",
   "pygments_lexer": "ipython3",
   "version": "3.8.5"
  }
 },
 "nbformat": 4,
 "nbformat_minor": 4
}
