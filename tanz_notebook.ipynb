{
 "cells": [
  {
   "cell_type": "markdown",
   "metadata": {
    "ExecuteTime": {
     "end_time": "2022-04-22T21:39:05.556059Z",
     "start_time": "2022-04-22T21:39:05.547916Z"
    }
   },
   "source": [
    "## Final Project Submission\n",
    "\n",
    "Please fill out:\n",
    "* Student name: Christopher Hollman\n",
    "* Student pace: self paced\n",
    "* Scheduled project review date/time: \n",
    "* Instructor name: Abhineet Kulkarni\n",
    "* Blog post URL:\n"
   ]
  },
  {
   "cell_type": "markdown",
   "metadata": {},
   "source": [
    "# Project Overview:\n",
    "\n",
    "The country of Tanzania is partially dependent on a number of outside organizations and governments to supply water to the country's population. Since these water sources are funded, installed, and maintained by a number of different parties, it is a logistical challenge to oversee them all and anticipate which areas are in need of repair or replacement. This project aims to use machine learning to identify sources that are non functional or failing so that the Government of Tanzania can efficiently direct their limited resources to the areas that need them most. "
   ]
  },
  {
   "cell_type": "code",
   "execution_count": 1,
   "metadata": {
    "ExecuteTime": {
     "end_time": "2022-05-10T03:03:41.474405Z",
     "start_time": "2022-05-10T03:03:40.327736Z"
    }
   },
   "outputs": [],
   "source": [
    "#importing necessary tools\n",
    "import pandas as pd\n",
    "import numpy as np\n",
    "import seaborn as sns\n",
    "import matplotlib.pyplot as plt\n",
    "import matplotlib.ticker as mtick\n",
    "%matplotlib inline\n",
    "from sklearn.model_selection import GridSearchCV\n",
    "from sklearn.model_selection import train_test_split\n",
    "from sklearn.ensemble import RandomForestClassifier \n",
    "from sklearn.tree import DecisionTreeClassifier\n",
    "from xgboost.sklearn import XGBClassifier \n",
    "from sklearn.metrics import classification_report\n",
    "from sklearn.metrics import confusion_matrix\n",
    "import warnings\n",
    "warnings.filterwarnings('ignore')"
   ]
  },
  {
   "cell_type": "code",
   "execution_count": 2,
   "metadata": {
    "ExecuteTime": {
     "end_time": "2022-05-10T03:03:41.900869Z",
     "start_time": "2022-05-10T03:03:41.475491Z"
    }
   },
   "outputs": [],
   "source": [
    "training_labels = pd.read_csv('data/training_set_labels.csv')\n",
    "training_values = pd.read_csv('data/training_set_values.csv')\n",
    "combined_df = training_labels.merge(training_values)\n"
   ]
  },
  {
   "cell_type": "markdown",
   "metadata": {},
   "source": [
    "## Initial Data Exploration:\n",
    "The target variable for this dataset is currently split into three categories. For our purposes\n",
    "any source that is not labeled as functional will need attention, eliminating the need to delineate\n",
    "between the two other categories."
   ]
  },
  {
   "cell_type": "code",
   "execution_count": 3,
   "metadata": {
    "ExecuteTime": {
     "end_time": "2022-05-10T03:03:44.061441Z",
     "start_time": "2022-05-10T03:03:44.033821Z"
    }
   },
   "outputs": [
    {
     "data": {
      "text/plain": [
       "functional                 32259\n",
       "non functional             22824\n",
       "functional needs repair     4317\n",
       "Name: status_group, dtype: int64"
      ]
     },
     "execution_count": 3,
     "metadata": {},
     "output_type": "execute_result"
    }
   ],
   "source": [
    "training_labels.status_group.value_counts()"
   ]
  },
  {
   "cell_type": "code",
   "execution_count": 4,
   "metadata": {
    "ExecuteTime": {
     "end_time": "2022-05-10T03:03:44.867678Z",
     "start_time": "2022-05-10T03:03:44.817877Z"
    }
   },
   "outputs": [],
   "source": [
    "#Converting 3 labels into binary categories. \n",
    "label_conversions = {\n",
    "    'functional':0,\n",
    "    'functional needs repair':1,\n",
    "    'non functional':1\n",
    "}\n",
    "y = training_labels['status_group'].replace(label_conversions) "
   ]
  },
  {
   "cell_type": "markdown",
   "metadata": {
    "ExecuteTime": {
     "end_time": "2022-05-03T18:07:41.429016Z",
     "start_time": "2022-05-03T18:07:41.421159Z"
    }
   },
   "source": [
    "## Exploration of Predictors:\n",
    "There are quite a few categories that seem to be very similar to one another if not redundant.\n",
    "We will drop a number of these to simplify our model."
   ]
  },
  {
   "cell_type": "code",
   "execution_count": 5,
   "metadata": {
    "ExecuteTime": {
     "end_time": "2022-05-10T03:03:46.211717Z",
     "start_time": "2022-05-10T03:03:46.201958Z"
    },
    "scrolled": true
   },
   "outputs": [
    {
     "data": {
      "text/plain": [
       "id                         int64\n",
       "amount_tsh               float64\n",
       "date_recorded             object\n",
       "funder                    object\n",
       "gps_height                 int64\n",
       "installer                 object\n",
       "longitude                float64\n",
       "latitude                 float64\n",
       "wpt_name                  object\n",
       "num_private                int64\n",
       "basin                     object\n",
       "subvillage                object\n",
       "region                    object\n",
       "region_code                int64\n",
       "district_code              int64\n",
       "lga                       object\n",
       "ward                      object\n",
       "population                 int64\n",
       "public_meeting            object\n",
       "recorded_by               object\n",
       "scheme_management         object\n",
       "scheme_name               object\n",
       "permit                    object\n",
       "construction_year          int64\n",
       "extraction_type           object\n",
       "extraction_type_group     object\n",
       "extraction_type_class     object\n",
       "management                object\n",
       "management_group          object\n",
       "payment                   object\n",
       "payment_type              object\n",
       "water_quality             object\n",
       "quality_group             object\n",
       "quantity                  object\n",
       "quantity_group            object\n",
       "source                    object\n",
       "source_type               object\n",
       "source_class              object\n",
       "waterpoint_type           object\n",
       "waterpoint_type_group     object\n",
       "dtype: object"
      ]
     },
     "execution_count": 5,
     "metadata": {},
     "output_type": "execute_result"
    }
   ],
   "source": [
    "training_values.dtypes"
   ]
  },
  {
   "cell_type": "code",
   "execution_count": 6,
   "metadata": {
    "ExecuteTime": {
     "end_time": "2022-05-10T03:03:46.619933Z",
     "start_time": "2022-05-10T03:03:46.612946Z"
    }
   },
   "outputs": [],
   "source": [
    "#These columns are either duplicates or more poorly categorized versions of columns that we kept\n",
    "\n",
    "unusable_columns = ['id','date_recorded', 'wpt_name', 'num_private', \n",
    "                    'subvillage', 'lga', 'ward', 'recorded_by', 'extraction_type_group', \n",
    "                    'extraction_type', 'scheme_name', 'management', 'waterpoint_type_group', \n",
    "                    'source', 'source_class', 'quantity_group', 'quality_group', \n",
    "                    'payment_type', 'latitude', 'longitude']"
   ]
  },
  {
   "cell_type": "code",
   "execution_count": 7,
   "metadata": {
    "ExecuteTime": {
     "end_time": "2022-05-10T03:03:46.870162Z",
     "start_time": "2022-05-10T03:03:46.845539Z"
    },
    "scrolled": true
   },
   "outputs": [
    {
     "data": {
      "text/plain": [
       "Index(['amount_tsh', 'funder', 'gps_height', 'installer', 'basin', 'region',\n",
       "       'region_code', 'district_code', 'population', 'public_meeting',\n",
       "       'scheme_management', 'permit', 'construction_year',\n",
       "       'extraction_type_class', 'management_group', 'payment', 'water_quality',\n",
       "       'quantity', 'source_type', 'waterpoint_type'],\n",
       "      dtype='object')"
      ]
     },
     "execution_count": 7,
     "metadata": {},
     "output_type": "execute_result"
    }
   ],
   "source": [
    "X_vals = training_values.drop(unusable_columns, axis=1)\n",
    "X_vals.columns"
   ]
  },
  {
   "cell_type": "markdown",
   "metadata": {},
   "source": [
    "### Dealing with missing values:\n",
    "There are quite a few missing values, each of which we will deal with in a slightly different way. For construction\n",
    "year we will take the median of the dataset excluding zero values (2000) and replace any zeros with this number. \n",
    "For scheme management we will label these values as 'unknown'. For funder and installer we will list them with the majority of the values as 'other'. I used the 'pad' method for public meeting and permit in order to preserve the ratio of yes/no values."
   ]
  },
  {
   "cell_type": "code",
   "execution_count": 8,
   "metadata": {
    "ExecuteTime": {
     "end_time": "2022-05-10T03:03:47.596837Z",
     "start_time": "2022-05-10T03:03:47.529036Z"
    },
    "scrolled": false
   },
   "outputs": [
    {
     "data": {
      "text/plain": [
       "amount_tsh                  0\n",
       "funder                   3635\n",
       "gps_height                  0\n",
       "installer                3655\n",
       "basin                       0\n",
       "region                      0\n",
       "region_code                 0\n",
       "district_code               0\n",
       "population                  0\n",
       "public_meeting           3334\n",
       "scheme_management        3877\n",
       "permit                   3056\n",
       "construction_year           0\n",
       "extraction_type_class       0\n",
       "management_group            0\n",
       "payment                     0\n",
       "water_quality               0\n",
       "quantity                    0\n",
       "source_type                 0\n",
       "waterpoint_type             0\n",
       "dtype: int64"
      ]
     },
     "execution_count": 8,
     "metadata": {},
     "output_type": "execute_result"
    }
   ],
   "source": [
    "X_vals.isna().sum()"
   ]
  },
  {
   "cell_type": "code",
   "execution_count": 9,
   "metadata": {
    "ExecuteTime": {
     "end_time": "2022-05-10T03:03:47.981069Z",
     "start_time": "2022-05-10T03:03:47.966793Z"
    }
   },
   "outputs": [
    {
     "data": {
      "text/plain": [
       " 0       20438\n",
       "-15         60\n",
       "-16         55\n",
       "-13         55\n",
       "-20         52\n",
       "         ...  \n",
       " 2285        1\n",
       " 2424        1\n",
       " 2552        1\n",
       " 2413        1\n",
       " 2385        1\n",
       "Name: gps_height, Length: 2428, dtype: int64"
      ]
     },
     "execution_count": 9,
     "metadata": {},
     "output_type": "execute_result"
    }
   ],
   "source": [
    "X_vals['gps_height'].value_counts()"
   ]
  },
  {
   "cell_type": "code",
   "execution_count": 10,
   "metadata": {
    "ExecuteTime": {
     "end_time": "2022-05-10T03:03:48.568433Z",
     "start_time": "2022-05-10T03:03:48.548472Z"
    },
    "scrolled": true
   },
   "outputs": [
    {
     "data": {
      "text/plain": [
       "count    59400.000000\n",
       "mean       179.909983\n",
       "std        471.482176\n",
       "min          0.000000\n",
       "25%          0.000000\n",
       "50%         25.000000\n",
       "75%        215.000000\n",
       "max      30500.000000\n",
       "Name: population, dtype: float64"
      ]
     },
     "execution_count": 10,
     "metadata": {},
     "output_type": "execute_result"
    }
   ],
   "source": [
    "#Zeros seem to be okay here, as most of are values are quite low, indicating that this is likely a real number\n",
    "#rather than a numerical placeholder.\n",
    "\n",
    "X_vals['population'].describe()"
   ]
  },
  {
   "cell_type": "code",
   "execution_count": 11,
   "metadata": {
    "ExecuteTime": {
     "end_time": "2022-05-10T03:03:49.114380Z",
     "start_time": "2022-05-10T03:03:49.102721Z"
    }
   },
   "outputs": [],
   "source": [
    "#Categorizing unknown values as such\n",
    "\n",
    "X_vals['scheme_management'].fillna('Unknown', inplace=True)"
   ]
  },
  {
   "cell_type": "code",
   "execution_count": 12,
   "metadata": {
    "ExecuteTime": {
     "end_time": "2022-05-10T03:03:49.652490Z",
     "start_time": "2022-05-10T03:03:49.606242Z"
    },
    "scrolled": true
   },
   "outputs": [],
   "source": [
    "#padding true/false categories and converting to integers\n",
    "\n",
    "X_vals['public_meeting'] = X_vals['public_meeting'].fillna(method='pad').astype(int)\n",
    "\n",
    "X_vals['permit'] = X_vals['permit'].fillna(method='pad').astype(int)"
   ]
  },
  {
   "cell_type": "markdown",
   "metadata": {},
   "source": [
    "### Funder/Installer Columns:\n",
    "These columns posed a challenge in that the appear to have been entered manually, resulting in\n",
    "extremely high cardinality and many entries that are close to one another but misspelled or abbreviated.\n",
    "I limited my categories to the top 30, cleaned those entries up as best I could and categorized the rest as 'other'"
   ]
  },
  {
   "cell_type": "code",
   "execution_count": 13,
   "metadata": {
    "ExecuteTime": {
     "end_time": "2022-05-10T03:03:50.397819Z",
     "start_time": "2022-05-10T03:03:50.385264Z"
    },
    "scrolled": true
   },
   "outputs": [
    {
     "name": "stdout",
     "output_type": "stream",
     "text": [
      "0       20709\n",
      "2010     2645\n",
      "2008     2613\n",
      "2009     2533\n",
      "2000     2091\n",
      "2007     1587\n",
      "2006     1471\n",
      "2003     1286\n",
      "2011     1256\n",
      "2004     1123\n",
      "2012     1084\n",
      "2002     1075\n",
      "1978     1037\n",
      "1995     1014\n",
      "2005     1011\n",
      "1999      979\n",
      "1998      966\n",
      "1990      954\n",
      "1985      945\n",
      "1980      811\n",
      "1996      811\n",
      "1984      779\n",
      "1982      744\n",
      "1994      738\n",
      "1972      708\n",
      "1974      676\n",
      "1997      644\n",
      "1992      640\n",
      "1993      608\n",
      "2001      540\n",
      "1988      521\n",
      "1983      488\n",
      "1975      437\n",
      "1986      434\n",
      "1976      414\n",
      "1970      411\n",
      "1991      324\n",
      "1989      316\n",
      "1987      302\n",
      "1981      238\n",
      "1977      202\n",
      "1979      192\n",
      "1973      184\n",
      "2013      176\n",
      "1971      145\n",
      "1960      102\n",
      "1967       88\n",
      "1963       85\n",
      "1968       77\n",
      "1969       59\n",
      "1964       40\n",
      "1962       30\n",
      "1961       21\n",
      "1965       19\n",
      "1966       17\n",
      "Name: construction_year, dtype: int64\n"
     ]
    }
   ],
   "source": [
    "#replacing unknown construction years with median value\n",
    "\n",
    "print(X_vals['construction_year'].value_counts())\n",
    "X_vals['construction_year'].replace(0,2000, inplace=True)"
   ]
  },
  {
   "cell_type": "code",
   "execution_count": 14,
   "metadata": {
    "ExecuteTime": {
     "end_time": "2022-05-10T03:03:50.720101Z",
     "start_time": "2022-05-10T03:03:50.683615Z"
    },
    "scrolled": true
   },
   "outputs": [
    {
     "name": "stdout",
     "output_type": "stream",
     "text": [
      "{'OXFAM', 'Government', 'Gover', 'HESAWA', 'Community', 'DWE', 'ACRA', 'TCRS', 'District Council', 'World vision', 'District council', 'Commu', 'Dmdd', 'LGA', 'SEMA', 'CES', 'WEDECO', 'TWESA', 'RWE', 'KKKT', 'Central government', 'Hesawa', 'AMREF', 'DANID', 'DANIDA', 'WU', 'DW', 'World Vision', '0', 'TASAF'}\n",
      "{'Hifab', 'Amref', 'World Bank', 'Dhv', 'Wateraid', 'Oxfam', 'Private Individual', 'Tasaf', 'Government Of Tanzania', 'District Council', 'Danida', 'Norad', 'Tcrs', 'Rwssp', 'Germany Republi', 'Adb', 'Unicef', 'Dwsp', 'Isf', 'Lga', 'Water', 'Kkkt', 'Hesawa', 'Rc Church', 'Fini Water', 'Netherlands', 'Dwe', 'World Vision', '0', 'Ministry Of Water'}\n"
     ]
    }
   ],
   "source": [
    "\n",
    "top_installers = set(X_vals['installer'].value_counts().index[:30].values)\n",
    "top_funders = set(X_vals['funder'].value_counts().index[:30].values)\n",
    "print(top_installers)\n",
    "print(top_funders)"
   ]
  },
  {
   "cell_type": "code",
   "execution_count": 15,
   "metadata": {
    "ExecuteTime": {
     "end_time": "2022-05-10T03:03:50.927057Z",
     "start_time": "2022-05-10T03:03:50.869563Z"
    }
   },
   "outputs": [],
   "source": [
    "#combining similar labels within top 30 and replacing remaining values with 'other'\n",
    "\n",
    "installer_replace = {\n",
    "    'Commu':'Community',\n",
    "    '0':'Unknown',\n",
    "    'DANID':'DANIDA',\n",
    "    'District council':'District Council',\n",
    "    'DW':'DWE',\n",
    "    'Gov':'Government',\n",
    "    'Gover':'Government',\n",
    "    'Central Government':'Government',\n",
    "    'HESAWA':'Hesawa',\n",
    "    'World vision':\"World Vision\"\n",
    "}\n",
    "\n",
    "X_vals['installer'].replace(installer_replace, inplace=True)\n",
    "\n",
    "X_vals['funder'].replace('0','Unknown', inplace=True)\n",
    "\n",
    "top_installers = set(X_vals['installer'].value_counts().index[:30].values)\n",
    "top_funders = set(X_vals['funder'].value_counts().index[:30].values)"
   ]
  },
  {
   "cell_type": "code",
   "execution_count": 16,
   "metadata": {
    "ExecuteTime": {
     "end_time": "2022-05-10T03:03:58.942665Z",
     "start_time": "2022-05-10T03:03:51.204471Z"
    }
   },
   "outputs": [],
   "source": [
    "for i in range(len(X_vals)):\n",
    "    if X_vals['installer'][i] not in top_installers:\n",
    "        X_vals['installer'][i] = 'Other'\n",
    "\n",
    "for i in range(len(X_vals)):\n",
    "    if X_vals['funder'][i] not in top_funders:\n",
    "        X_vals['funder'][i] = 'Other'        "
   ]
  },
  {
   "cell_type": "code",
   "execution_count": 17,
   "metadata": {
    "ExecuteTime": {
     "end_time": "2022-05-10T03:03:58.951323Z",
     "start_time": "2022-05-10T03:03:58.943814Z"
    },
    "scrolled": false
   },
   "outputs": [
    {
     "data": {
      "text/plain": [
       "Other                         23679\n",
       "DWE                           17648\n",
       "Government                     2318\n",
       "Community                      1613\n",
       "DANIDA                         1602\n",
       "Hesawa                         1379\n",
       "RWE                            1206\n",
       "District Council                943\n",
       "KKKT                            898\n",
       "Unknown                         780\n",
       "TCRS                            707\n",
       "World Vision                    678\n",
       "Central government              622\n",
       "CES                             610\n",
       "LGA                             408\n",
       "WEDECO                          397\n",
       "TASAF                           396\n",
       "AMREF                           329\n",
       "TWESA                           316\n",
       "WU                              301\n",
       "Dmdd                            287\n",
       "ACRA                            278\n",
       "SEMA                            249\n",
       "OXFAM                           234\n",
       "Da                              224\n",
       "UNICEF                          222\n",
       "Gove                            222\n",
       "Idara ya maji                   222\n",
       "Sengerema Water Department      214\n",
       "Kiliwater                       210\n",
       "NORAD                           208\n",
       "Name: installer, dtype: int64"
      ]
     },
     "execution_count": 17,
     "metadata": {},
     "output_type": "execute_result"
    }
   ],
   "source": [
    "X_vals['installer'].value_counts()"
   ]
  },
  {
   "cell_type": "code",
   "execution_count": 18,
   "metadata": {
    "ExecuteTime": {
     "end_time": "2022-05-10T03:03:58.961078Z",
     "start_time": "2022-05-10T03:03:58.952762Z"
    },
    "scrolled": false
   },
   "outputs": [
    {
     "data": {
      "text/plain": [
       "Other                     26129\n",
       "Government Of Tanzania     9084\n",
       "Danida                     3114\n",
       "Hesawa                     2202\n",
       "Rwssp                      1374\n",
       "World Bank                 1349\n",
       "Kkkt                       1287\n",
       "World Vision               1246\n",
       "Unicef                     1057\n",
       "Tasaf                       877\n",
       "District Council            843\n",
       "Dhv                         829\n",
       "Private Individual          826\n",
       "Dwsp                        811\n",
       "Unknown                     781\n",
       "Norad                       765\n",
       "Germany Republi             610\n",
       "Tcrs                        602\n",
       "Ministry Of Water           590\n",
       "Water                       583\n",
       "Dwe                         484\n",
       "Netherlands                 470\n",
       "Hifab                       450\n",
       "Adb                         448\n",
       "Lga                         442\n",
       "Amref                       425\n",
       "Fini Water                  393\n",
       "Oxfam                       359\n",
       "Wateraid                    333\n",
       "Rc Church                   321\n",
       "Isf                         316\n",
       "Name: funder, dtype: int64"
      ]
     },
     "execution_count": 18,
     "metadata": {},
     "output_type": "execute_result"
    }
   ],
   "source": [
    "X_vals['funder'].value_counts()"
   ]
  },
  {
   "cell_type": "code",
   "execution_count": 19,
   "metadata": {
    "ExecuteTime": {
     "end_time": "2022-05-10T03:03:58.966501Z",
     "start_time": "2022-05-10T03:03:58.962264Z"
    }
   },
   "outputs": [],
   "source": [
    "#Converting region and district codes to avoid them being treated as continuous\n",
    "\n",
    "X_vals['region_code'] = X_vals['region_code'].astype(object)\n",
    "X_vals['district_code'] = X_vals['district_code'].astype(object)"
   ]
  },
  {
   "cell_type": "markdown",
   "metadata": {},
   "source": [
    "## Fitting Decision Tree Model:\n",
    "The model we will use as a baseline will be an untuned Decision tree. This is a relatively simple yet effective model \n",
    "that doesn't require any scaling of our data. "
   ]
  },
  {
   "cell_type": "code",
   "execution_count": 20,
   "metadata": {
    "ExecuteTime": {
     "end_time": "2022-05-10T03:03:59.043817Z",
     "start_time": "2022-05-10T03:03:58.967404Z"
    }
   },
   "outputs": [],
   "source": [
    "#Creating dummy variables for categorical data\n",
    "\n",
    "X_vals = pd.get_dummies(X_vals)"
   ]
  },
  {
   "cell_type": "code",
   "execution_count": 21,
   "metadata": {
    "ExecuteTime": {
     "end_time": "2022-05-10T03:03:59.066577Z",
     "start_time": "2022-05-10T03:03:59.044814Z"
    }
   },
   "outputs": [],
   "source": [
    "#Splitting data\n",
    "\n",
    "X_train, X_test, y_train, y_test = train_test_split(X_vals, y, test_size=.30, random_state=0)"
   ]
  },
  {
   "cell_type": "code",
   "execution_count": 23,
   "metadata": {
    "ExecuteTime": {
     "end_time": "2022-05-10T01:59:37.146892Z",
     "start_time": "2022-05-10T01:59:36.430127Z"
    }
   },
   "outputs": [
    {
     "name": "stdout",
     "output_type": "stream",
     "text": [
      "Untuned Decison Tree Scores: \n",
      "               precision    recall  f1-score   support\n",
      "\n",
      "           0       0.79      0.82      0.80      9612\n",
      "           1       0.78      0.74      0.76      8208\n",
      "\n",
      "    accuracy                           0.78     17820\n",
      "   macro avg       0.78      0.78      0.78     17820\n",
      "weighted avg       0.78      0.78      0.78     17820\n",
      "\n"
     ]
    }
   ],
   "source": [
    "# Fitting Decision Tree\n",
    "clf_dt = DecisionTreeClassifier()\n",
    "clf_dt.fit(X_train, y_train)\n",
    " \n",
    "print('Untuned Decison Tree Scores: \\n', classification_report(y_test,clf_dt.predict(X_test)))\n"
   ]
  },
  {
   "cell_type": "markdown",
   "metadata": {},
   "source": [
    "### Untuned Decision Tree Performance:\n",
    "The metrics to focus on are precision and recall for 1 values. This model has .77 precision, meaning that\n",
    "it is correct 77% of the time when it predicts that a water sources is in need or repair or replacement. The .74 recall score indicates that this model correctly identifies 74% of total sources that are in our target category. This is a very serviceable baseline model but can likely be improved."
   ]
  },
  {
   "cell_type": "code",
   "execution_count": 24,
   "metadata": {
    "ExecuteTime": {
     "end_time": "2022-05-10T02:00:52.457432Z",
     "start_time": "2022-05-10T01:59:37.148546Z"
    }
   },
   "outputs": [
    {
     "name": "stdout",
     "output_type": "stream",
     "text": [
      "{'criterion': 'gini', 'max_depth': 25, 'min_samples_split': 15}\n",
      "0.7793169793169793\n"
     ]
    }
   ],
   "source": [
    "\n",
    "\n",
    "param_grid_dt = {\n",
    "    'criterion': ['gini', 'entropy'],\n",
    "    'max_depth': [2, 4, 6, 8, 10, 15, 20, 25, 30],\n",
    "    'min_samples_split': [10, 12, 14, 15, 16, 17]\n",
    "}\n",
    "\n",
    "gs_tree = GridSearchCV(clf_dt, param_grid_dt, cv=3)\n",
    "gs_tree.fit(X_train, y_train)\n",
    "\n",
    "print(gs_tree.best_params_)\n",
    "print(gs_tree.best_score_)"
   ]
  },
  {
   "cell_type": "code",
   "execution_count": 25,
   "metadata": {
    "ExecuteTime": {
     "end_time": "2022-05-10T02:00:53.053485Z",
     "start_time": "2022-05-10T02:00:52.458596Z"
    },
    "scrolled": true
   },
   "outputs": [
    {
     "name": "stdout",
     "output_type": "stream",
     "text": [
      "Tuned Decison Tree Scores: \n",
      "               precision    recall  f1-score   support\n",
      "\n",
      "           0       0.77      0.87      0.82      9612\n",
      "           1       0.82      0.70      0.76      8208\n",
      "\n",
      "    accuracy                           0.79     17820\n",
      "   macro avg       0.80      0.79      0.79     17820\n",
      "weighted avg       0.80      0.79      0.79     17820\n",
      "\n"
     ]
    }
   ],
   "source": [
    "clf_dt_2 = DecisionTreeClassifier(\n",
    "    criterion='gini', \n",
    "    max_depth=20, \n",
    "    min_samples_split=10\n",
    ")\n",
    "clf_dt_2.fit(X_train, y_train)\n",
    "print('Tuned Decison Tree Scores: \\n', classification_report(y_test,clf_dt_2.predict(X_test)))\n",
    " "
   ]
  },
  {
   "cell_type": "markdown",
   "metadata": {},
   "source": [
    "### Tuned Decision Tree Performance:\n",
    "With these tuned parameters our model is more precise (82%) when categorizing a source as in need of repair, however\n",
    "it has lost performance in terms of missing more sources that should be flagged as in need of service. The overall\n",
    "accuracy of the model improved marginally. "
   ]
  },
  {
   "cell_type": "markdown",
   "metadata": {},
   "source": [
    "## Fitting a Random Forest Model:\n",
    "Given the amount of noise present in our data, it is likely that we can improve our model but fitting a random\n",
    "forest model made up of a consensus of many simple decision trees. "
   ]
  },
  {
   "cell_type": "code",
   "execution_count": 26,
   "metadata": {
    "ExecuteTime": {
     "end_time": "2022-05-10T02:00:59.968280Z",
     "start_time": "2022-05-10T02:00:53.054747Z"
    },
    "scrolled": false
   },
   "outputs": [
    {
     "name": "stdout",
     "output_type": "stream",
     "text": [
      "Random Forest Scores \n",
      "               precision    recall  f1-score   support\n",
      "\n",
      "           0       0.81      0.85      0.83      9612\n",
      "           1       0.82      0.76      0.79      8208\n",
      "\n",
      "    accuracy                           0.81     17820\n",
      "   macro avg       0.81      0.81      0.81     17820\n",
      "weighted avg       0.81      0.81      0.81     17820\n",
      "\n"
     ]
    }
   ],
   "source": [
    "#fit random forest \n",
    "clf_rf = RandomForestClassifier(random_state=42) \n",
    "clf_rf.fit(X_train,y_train)\n",
    "print('Random Forest Scores \\n', classification_report(y_test,clf_rf.predict(X_test)))"
   ]
  },
  {
   "cell_type": "markdown",
   "metadata": {},
   "source": [
    "### Untuned Random Forest Performance:\n",
    "This more complex model resulted in a similar precision for our target category without the drop off in recall as well as better overall accuracy. This is already a good improvement over decision trees, which is to be expected given how noisy our data is."
   ]
  },
  {
   "cell_type": "code",
   "execution_count": 34,
   "metadata": {
    "ExecuteTime": {
     "end_time": "2022-05-09T18:29:22.249053Z",
     "start_time": "2022-05-09T18:10:35.025155Z"
    },
    "scrolled": true
   },
   "outputs": [
    {
     "name": "stdout",
     "output_type": "stream",
     "text": [
      "{'criterion': 'entropy', 'max_depth': None, 'min_samples_leaf': 1, 'min_samples_split': 10, 'n_estimators': 150}\n",
      "RandomForestClassifier(criterion='entropy', min_samples_split=10,\n",
      "                       n_estimators=150, random_state=42)\n",
      "0.8118742985409653\n"
     ]
    }
   ],
   "source": [
    "param_grid_rf = {\n",
    "    'n_estimators': [50, 100, 150],\n",
    "    'criterion': ['gini', 'entropy'],\n",
    "    'max_depth': [None, 5, 10],\n",
    "    'min_samples_split': [5,10,15],\n",
    "    'min_samples_leaf': [1, 3, 5]\n",
    "}\n",
    "\n",
    "\n",
    "gs_forest = GridSearchCV(clf_rf, param_grid_rf, cv=3)\n",
    "gs_forest.fit(X_train, y_train)\n",
    "\n",
    "print(gs_forest.best_params_)\n",
    "print(gs_forest.best_estimator_)\n",
    "print(gs_forest.best_score_)"
   ]
  },
  {
   "cell_type": "code",
   "execution_count": 22,
   "metadata": {
    "ExecuteTime": {
     "end_time": "2022-05-10T03:04:14.098827Z",
     "start_time": "2022-05-10T03:04:04.910346Z"
    }
   },
   "outputs": [
    {
     "name": "stdout",
     "output_type": "stream",
     "text": [
      "Tuned Random Forest Scores \n",
      "               precision    recall  f1-score   support\n",
      "\n",
      "           0       0.80      0.88      0.84      9612\n",
      "           1       0.84      0.75      0.79      8208\n",
      "\n",
      "    accuracy                           0.82     17820\n",
      "   macro avg       0.82      0.81      0.81     17820\n",
      "weighted avg       0.82      0.82      0.82     17820\n",
      "\n"
     ]
    }
   ],
   "source": [
    "clf_rf_2 = RandomForestClassifier(\n",
    "    n_estimators=150,\n",
    "    criterion='entropy',\n",
    "    max_depth=None,\n",
    "    min_samples_split = 10,\n",
    "    min_samples_leaf = 1,\n",
    "    random_state=42) \n",
    "clf_rf_2.fit(X_train, y_train)\n",
    "print('Tuned Random Forest Scores \\n', classification_report(y_test,clf_rf_2.predict(X_test)))"
   ]
  },
  {
   "cell_type": "markdown",
   "metadata": {},
   "source": [
    "### Tuned Random Forest Performance: \n",
    "We were able to increase the precision of our model for our target category by 2 points at the cost of 1 point of recall, which is somewhat acceptable. Overall model accuracy increased by one point as well. "
   ]
  },
  {
   "cell_type": "markdown",
   "metadata": {},
   "source": [
    "## Fitting XG Boost Model\n",
    "This tends to be one of the more accurate models readily available for classification tasks. It should perform similarly or better as compared to the Random Forest model. "
   ]
  },
  {
   "cell_type": "code",
   "execution_count": 29,
   "metadata": {
    "ExecuteTime": {
     "end_time": "2022-05-10T00:42:58.914434Z",
     "start_time": "2022-05-10T00:42:51.671495Z"
    },
    "scrolled": true
   },
   "outputs": [
    {
     "name": "stdout",
     "output_type": "stream",
     "text": [
      "XG Boost Scores \n",
      "               precision    recall  f1-score   support\n",
      "\n",
      "           0       0.78      0.89      0.83      9612\n",
      "           1       0.84      0.71      0.77      8208\n",
      "\n",
      "    accuracy                           0.81     17820\n",
      "   macro avg       0.81      0.80      0.80     17820\n",
      "weighted avg       0.81      0.81      0.80     17820\n",
      "\n"
     ]
    }
   ],
   "source": [
    "# XGBoost\n",
    "clf_xgb = XGBClassifier()\n",
    "clf_xgb.fit(X_train,y_train)\n",
    "print('XG Boost Scores \\n', classification_report(y_test,clf_xgb.predict(X_test)))"
   ]
  },
  {
   "cell_type": "markdown",
   "metadata": {},
   "source": [
    "### Untuned XG Boost Model Performance:\n",
    "An untuned XB Boost model results in similar but slightly lower scores than our tuned random forest."
   ]
  },
  {
   "cell_type": "code",
   "execution_count": 37,
   "metadata": {
    "ExecuteTime": {
     "end_time": "2022-05-09T18:29:37.151850Z",
     "start_time": "2022-05-09T18:29:37.149376Z"
    }
   },
   "outputs": [],
   "source": [
    "param_grid_xgb = {\n",
    "    'learning_rate': [0.1, .2, .3],\n",
    "    'max_depth': [2,4,6],\n",
    "    'subsample': [0.5, 0.7, 1],\n",
    "    'n_estimators': [100, 150, 200]\n",
    "}"
   ]
  },
  {
   "cell_type": "code",
   "execution_count": 38,
   "metadata": {
    "ExecuteTime": {
     "end_time": "2022-05-09T19:05:10.824808Z",
     "start_time": "2022-05-09T18:29:37.152891Z"
    }
   },
   "outputs": [
    {
     "name": "stdout",
     "output_type": "stream",
     "text": [
      "{'learning_rate': 0.3, 'max_depth': 6, 'n_estimators': 200, 'subsample': 0.7}\n",
      "XGBClassifier(base_score=0.5, booster='gbtree', colsample_bylevel=1,\n",
      "              colsample_bynode=1, colsample_bytree=1, gamma=0, gpu_id=-1,\n",
      "              importance_type='gain', interaction_constraints='',\n",
      "              learning_rate=0.3, max_delta_step=0, max_depth=6,\n",
      "              min_child_weight=1, missing=nan, monotone_constraints='()',\n",
      "              n_estimators=200, n_jobs=0, num_parallel_tree=1, random_state=0,\n",
      "              reg_alpha=0, reg_lambda=1, scale_pos_weight=1, subsample=0.7,\n",
      "              tree_method='exact', validate_parameters=1, verbosity=None)\n",
      "0.8042648709315378\n"
     ]
    }
   ],
   "source": [
    "gs_boost = GridSearchCV(clf_xgb, param_grid_xgb, cv=3)\n",
    "gs_boost.fit(X_train, y_train)\n",
    "print(gs_boost.best_params_)\n",
    "print(gs_boost.best_estimator_)\n",
    "print(gs_boost.best_score_)"
   ]
  },
  {
   "cell_type": "code",
   "execution_count": 30,
   "metadata": {
    "ExecuteTime": {
     "end_time": "2022-05-10T00:43:42.673053Z",
     "start_time": "2022-05-10T00:43:26.832578Z"
    },
    "scrolled": true
   },
   "outputs": [
    {
     "name": "stdout",
     "output_type": "stream",
     "text": [
      "Tuned XG Boost Scores \n",
      "               precision    recall  f1-score   support\n",
      "\n",
      "           0       0.80      0.87      0.83      9612\n",
      "           1       0.83      0.74      0.78      8208\n",
      "\n",
      "    accuracy                           0.81     17820\n",
      "   macro avg       0.81      0.80      0.81     17820\n",
      "weighted avg       0.81      0.81      0.81     17820\n",
      "\n"
     ]
    }
   ],
   "source": [
    "clf_xgb_2 = XGBClassifier(learning_rate=0.3, max_depth= 6, n_estimators= 200, subsample=0.7)\n",
    "clf_xgb_2.fit(X_train, y_train)\n",
    "print('Tuned XG Boost Scores \\n', classification_report(y_test,clf_xgb_2.predict(X_test)))"
   ]
  },
  {
   "cell_type": "markdown",
   "metadata": {},
   "source": [
    "### Tuned XG Boost Model Performance:\n",
    "None of the parameters in the grid search resulted in appreciably better performance. The tuned Random Forest\n",
    "model has the best mix of precision and recall for the target group, meaning that a good portion of failures are being correctly categorized without wasting government resources investigating wells that are actually working properly. "
   ]
  },
  {
   "cell_type": "code",
   "execution_count": 56,
   "metadata": {
    "ExecuteTime": {
     "end_time": "2022-05-09T19:41:51.387499Z",
     "start_time": "2022-05-09T19:41:51.336121Z"
    }
   },
   "outputs": [],
   "source": [
    "importances = clf_rf_2.feature_importances_\n",
    "sorted_indices = np.argsort(importances)[::-1]"
   ]
  },
  {
   "cell_type": "code",
   "execution_count": 23,
   "metadata": {
    "ExecuteTime": {
     "end_time": "2022-05-10T03:04:49.967427Z",
     "start_time": "2022-05-10T03:04:49.741437Z"
    }
   },
   "outputs": [
    {
     "data": {
      "image/png": "[encoded data removed]",
      "text/plain": [
       "<Figure size 576x576 with 1 Axes>"
      ]
     },
     "metadata": {},
     "output_type": "display_data"
    }
   ],
   "source": [
    "def plot_feature_importances(model):\n",
    "    sns.set_style('darkgrid')\n",
    "    importances = model.feature_importances_\n",
    "    sorted_indices = np.argsort(importances)[::-1]\n",
    "    n_features = 15\n",
    "    plt.figure(figsize=(8,8))\n",
    "    plt.barh(range(15), importances[sorted_indices][:15], align='center') \n",
    "    plt.yticks(range(n_features), X_train.columns[sorted_indices][:15])\n",
    "    plt.xlabel('Feature importance')\n",
    "    plt.ylabel('Feature')\n",
    "    plt.title('Model Feature Importance')\n",
    "plot_feature_importances(clf_rf_2)"
   ]
  },
  {
   "cell_type": "code",
   "execution_count": 45,
   "metadata": {
    "ExecuteTime": {
     "end_time": "2022-05-10T02:18:55.464781Z",
     "start_time": "2022-05-10T02:18:54.899985Z"
    }
   },
   "outputs": [
    {
     "data": {
      "image/png": "[encoded data removed]",
      "text/plain": [
       "<Figure size 216x216 with 1 Axes>"
      ]
     },
     "metadata": {
      "needs_background": "light"
     },
     "output_type": "display_data"
    }
   ],
   "source": [
    "y_pred = clf_rf_2.predict(X_test)\n",
    "\n",
    "confmat = confusion_matrix(y_true=y_test, y_pred=y_pred)\n",
    "\n",
    "fig,ax = plt.subplots(figsize=(3,3))\n",
    "ax.matshow(confmat, cmap=plt.cm.Blues, alpha=0.5)\n",
    "for x in range(confmat.shape[0]):\n",
    "    for y in range(confmat.shape[1]):\n",
    "        ax.text(x=x,y=y,\n",
    "               s=confmat[x,y],\n",
    "               va='center', ha='center')\n",
    "plt.xlabel('Predicted Label')\n",
    "plt.ylabel('True Label')\n",
    "plt.show()"
   ]
  },
  {
   "cell_type": "markdown",
   "metadata": {},
   "source": [
    "## Model Interpretation:\n",
    "The most important features for this model are the waterpoint being categorized as dry, the altitude of the well and the year it was built/installed. There are quite a few 0 values in the GPS height column so looking deeper into the accuracy of those numbers may be useful to improve model performance. Also interestingly, not all of the waterpoints that are described as \"dry\" are labeled as non functional. "
   ]
  },
  {
   "cell_type": "markdown",
   "metadata": {},
   "source": [
    "## Conclusion/Next Steps: \n",
    "This model is able to accurately categorize a failing/failed water source 84% of the time, while detecting 75 percent of the total sources in need of repair or replacement. This is a good starting point and results in a much more efficient approach compared to a nationwide routine inspection of all wells. The major limitations of this model lie with the data itself and some improvement in performance could be gained by:\n",
    "1. Reclassifying/aggregating the extensive list of funders/installers.\n",
    "2. Looking deeper into GPS height, which was one of our top features in terms of performance.\n",
    "3. Ranking flagged sites in terms of urgency."
   ]
  },
  {
   "cell_type": "markdown",
   "metadata": {},
   "source": [
    "## Graphing Data"
   ]
  },
  {
   "cell_type": "code",
   "execution_count": 226,
   "metadata": {
    "ExecuteTime": {
     "end_time": "2022-05-09T21:11:28.169549Z",
     "start_time": "2022-05-09T21:11:28.121332Z"
    }
   },
   "outputs": [
    {
     "data": {
      "text/html": [
       "<div>\n",
       "<style scoped>\n",
       "    .dataframe tbody tr th:only-of-type {\n",
       "        vertical-align: middle;\n",
       "    }\n",
       "\n",
       "    .dataframe tbody tr th {\n",
       "        vertical-align: top;\n",
       "    }\n",
       "\n",
       "    .dataframe thead th {\n",
       "        text-align: right;\n",
       "    }\n",
       "</style>\n",
       "<table border=\"1\" class=\"dataframe\">\n",
       "  <thead>\n",
       "    <tr style=\"text-align: right;\">\n",
       "      <th>status_group</th>\n",
       "      <th>functional</th>\n",
       "      <th>functional needs repair</th>\n",
       "      <th>non functional</th>\n",
       "      <th>total</th>\n",
       "      <th>failure_rate</th>\n",
       "    </tr>\n",
       "    <tr>\n",
       "      <th>region</th>\n",
       "      <th></th>\n",
       "      <th></th>\n",
       "      <th></th>\n",
       "      <th></th>\n",
       "      <th></th>\n",
       "    </tr>\n",
       "  </thead>\n",
       "  <tbody>\n",
       "    <tr>\n",
       "      <th>Lindi</th>\n",
       "      <td>460</td>\n",
       "      <td>93</td>\n",
       "      <td>993</td>\n",
       "      <td>1546</td>\n",
       "      <td>0.702458</td>\n",
       "    </tr>\n",
       "    <tr>\n",
       "      <th>Mtwara</th>\n",
       "      <td>524</td>\n",
       "      <td>126</td>\n",
       "      <td>1080</td>\n",
       "      <td>1730</td>\n",
       "      <td>0.697110</td>\n",
       "    </tr>\n",
       "    <tr>\n",
       "      <th>Rukwa</th>\n",
       "      <td>707</td>\n",
       "      <td>135</td>\n",
       "      <td>966</td>\n",
       "      <td>1808</td>\n",
       "      <td>0.608960</td>\n",
       "    </tr>\n",
       "    <tr>\n",
       "      <th>Tabora</th>\n",
       "      <td>848</td>\n",
       "      <td>45</td>\n",
       "      <td>1066</td>\n",
       "      <td>1959</td>\n",
       "      <td>0.567126</td>\n",
       "    </tr>\n",
       "    <tr>\n",
       "      <th>Mara</th>\n",
       "      <td>886</td>\n",
       "      <td>60</td>\n",
       "      <td>1023</td>\n",
       "      <td>1969</td>\n",
       "      <td>0.550025</td>\n",
       "    </tr>\n",
       "    <tr>\n",
       "      <th>Dodoma</th>\n",
       "      <td>1009</td>\n",
       "      <td>209</td>\n",
       "      <td>983</td>\n",
       "      <td>2201</td>\n",
       "      <td>0.541572</td>\n",
       "    </tr>\n",
       "    <tr>\n",
       "      <th>Singida</th>\n",
       "      <td>1011</td>\n",
       "      <td>128</td>\n",
       "      <td>954</td>\n",
       "      <td>2093</td>\n",
       "      <td>0.516961</td>\n",
       "    </tr>\n",
       "    <tr>\n",
       "      <th>Kigoma</th>\n",
       "      <td>1363</td>\n",
       "      <td>603</td>\n",
       "      <td>850</td>\n",
       "      <td>2816</td>\n",
       "      <td>0.515980</td>\n",
       "    </tr>\n",
       "    <tr>\n",
       "      <th>Mwanza</th>\n",
       "      <td>1502</td>\n",
       "      <td>183</td>\n",
       "      <td>1417</td>\n",
       "      <td>3102</td>\n",
       "      <td>0.515796</td>\n",
       "    </tr>\n",
       "    <tr>\n",
       "      <th>Mbeya</th>\n",
       "      <td>2319</td>\n",
       "      <td>504</td>\n",
       "      <td>1816</td>\n",
       "      <td>4639</td>\n",
       "      <td>0.500108</td>\n",
       "    </tr>\n",
       "    <tr>\n",
       "      <th>Kagera</th>\n",
       "      <td>1727</td>\n",
       "      <td>304</td>\n",
       "      <td>1285</td>\n",
       "      <td>3316</td>\n",
       "      <td>0.479192</td>\n",
       "    </tr>\n",
       "    <tr>\n",
       "      <th>Morogoro</th>\n",
       "      <td>2119</td>\n",
       "      <td>300</td>\n",
       "      <td>1587</td>\n",
       "      <td>4006</td>\n",
       "      <td>0.471043</td>\n",
       "    </tr>\n",
       "    <tr>\n",
       "      <th>Shinyanga</th>\n",
       "      <td>2789</td>\n",
       "      <td>635</td>\n",
       "      <td>1558</td>\n",
       "      <td>4982</td>\n",
       "      <td>0.440185</td>\n",
       "    </tr>\n",
       "    <tr>\n",
       "      <th>Ruvuma</th>\n",
       "      <td>1480</td>\n",
       "      <td>164</td>\n",
       "      <td>996</td>\n",
       "      <td>2640</td>\n",
       "      <td>0.439394</td>\n",
       "    </tr>\n",
       "    <tr>\n",
       "      <th>Tanga</th>\n",
       "      <td>1436</td>\n",
       "      <td>73</td>\n",
       "      <td>1038</td>\n",
       "      <td>2547</td>\n",
       "      <td>0.436199</td>\n",
       "    </tr>\n",
       "    <tr>\n",
       "      <th>Dar es Salaam</th>\n",
       "      <td>461</td>\n",
       "      <td>3</td>\n",
       "      <td>341</td>\n",
       "      <td>805</td>\n",
       "      <td>0.427329</td>\n",
       "    </tr>\n",
       "    <tr>\n",
       "      <th>Pwani</th>\n",
       "      <td>1556</td>\n",
       "      <td>36</td>\n",
       "      <td>1043</td>\n",
       "      <td>2635</td>\n",
       "      <td>0.409488</td>\n",
       "    </tr>\n",
       "    <tr>\n",
       "      <th>Kilimanjaro</th>\n",
       "      <td>2640</td>\n",
       "      <td>322</td>\n",
       "      <td>1417</td>\n",
       "      <td>4379</td>\n",
       "      <td>0.397123</td>\n",
       "    </tr>\n",
       "    <tr>\n",
       "      <th>Manyara</th>\n",
       "      <td>987</td>\n",
       "      <td>96</td>\n",
       "      <td>500</td>\n",
       "      <td>1583</td>\n",
       "      <td>0.376500</td>\n",
       "    </tr>\n",
       "    <tr>\n",
       "      <th>Arusha</th>\n",
       "      <td>2294</td>\n",
       "      <td>175</td>\n",
       "      <td>881</td>\n",
       "      <td>3350</td>\n",
       "      <td>0.315224</td>\n",
       "    </tr>\n",
       "    <tr>\n",
       "      <th>Iringa</th>\n",
       "      <td>4141</td>\n",
       "      <td>123</td>\n",
       "      <td>1030</td>\n",
       "      <td>5294</td>\n",
       "      <td>0.217794</td>\n",
       "    </tr>\n",
       "  </tbody>\n",
       "</table>\n",
       "</div>"
      ],
      "text/plain": [
       "status_group   functional  functional needs repair  non functional  total  \\\n",
       "region                                                                      \n",
       "Lindi                 460                       93             993   1546   \n",
       "Mtwara                524                      126            1080   1730   \n",
       "Rukwa                 707                      135             966   1808   \n",
       "Tabora                848                       45            1066   1959   \n",
       "Mara                  886                       60            1023   1969   \n",
       "Dodoma               1009                      209             983   2201   \n",
       "Singida              1011                      128             954   2093   \n",
       "Kigoma               1363                      603             850   2816   \n",
       "Mwanza               1502                      183            1417   3102   \n",
       "Mbeya                2319                      504            1816   4639   \n",
       "Kagera               1727                      304            1285   3316   \n",
       "Morogoro             2119                      300            1587   4006   \n",
       "Shinyanga            2789                      635            1558   4982   \n",
       "Ruvuma               1480                      164             996   2640   \n",
       "Tanga                1436                       73            1038   2547   \n",
       "Dar es Salaam         461                        3             341    805   \n",
       "Pwani                1556                       36            1043   2635   \n",
       "Kilimanjaro          2640                      322            1417   4379   \n",
       "Manyara               987                       96             500   1583   \n",
       "Arusha               2294                      175             881   3350   \n",
       "Iringa               4141                      123            1030   5294   \n",
       "\n",
       "status_group   failure_rate  \n",
       "region                       \n",
       "Lindi              0.702458  \n",
       "Mtwara             0.697110  \n",
       "Rukwa              0.608960  \n",
       "Tabora             0.567126  \n",
       "Mara               0.550025  \n",
       "Dodoma             0.541572  \n",
       "Singida            0.516961  \n",
       "Kigoma             0.515980  \n",
       "Mwanza             0.515796  \n",
       "Mbeya              0.500108  \n",
       "Kagera             0.479192  \n",
       "Morogoro           0.471043  \n",
       "Shinyanga          0.440185  \n",
       "Ruvuma             0.439394  \n",
       "Tanga              0.436199  \n",
       "Dar es Salaam      0.427329  \n",
       "Pwani              0.409488  \n",
       "Kilimanjaro        0.397123  \n",
       "Manyara            0.376500  \n",
       "Arusha             0.315224  \n",
       "Iringa             0.217794  "
      ]
     },
     "execution_count": 226,
     "metadata": {},
     "output_type": "execute_result"
    }
   ],
   "source": [
    "regions = combined_df.groupby('region')['status_group'].value_counts().unstack()\n",
    "regions['total'] = regions['non functional']+regions['functional needs repair']+regions['functional']\n",
    "regions['failure_rate'] = (regions['non functional']+regions['functional needs repair'])/regions['total']\n",
    "regions = regions.sort_values('failure_rate', ascending=False)"
   ]
  },
  {
   "cell_type": "code",
   "execution_count": 227,
   "metadata": {
    "ExecuteTime": {
     "end_time": "2022-05-09T21:11:28.603521Z",
     "start_time": "2022-05-09T21:11:28.595692Z"
    }
   },
   "outputs": [],
   "source": [
    "regions.reset_index(inplace=True)"
   ]
  },
  {
   "cell_type": "code",
   "execution_count": 245,
   "metadata": {
    "ExecuteTime": {
     "end_time": "2022-05-09T21:20:26.219615Z",
     "start_time": "2022-05-09T21:20:26.005517Z"
    }
   },
   "outputs": [
    {
     "data": {
      "image/png": "[encoded data removed]",
      "text/plain": [
       "<Figure size 1008x576 with 1 Axes>"
      ]
     },
     "metadata": {},
     "output_type": "display_data"
    }
   ],
   "source": [
    "ax = plt.subplots(figsize=(14,8))\n",
    "sns.set_theme(style=\"darkgrid\")\n",
    "sns.set()\n",
    "ax = sns.barplot(\n",
    "    y = regions['region'], \n",
    "    x = regions['failure_rate']*100, \n",
    "    color = \"tab:blue\",\n",
    "    data = regions, orient=\"h\")\n",
    "ax.set_xlabel(\"Failure Rate\", fontsize=13)\n",
    "ax.set_ylabel(\"Region\", fontsize=13)\n",
    "ax.set_title(\"Waterpoint Failure By Region\", fontsize=16)\n",
    "    \n",
    "ax.xaxis.set_major_formatter(mtick.PercentFormatter());\n"
   ]
  },
  {
   "cell_type": "code",
   "execution_count": null,
   "metadata": {},
   "outputs": [],
   "source": []
  }
 ],
 "metadata": {
  "kernelspec": {
   "display_name": "Python 3",
   "language": "python",
   "name": "python3"
  },
  "language_info": {
   "codemirror_mode": {
    "name": "ipython",
    "version": 3
   },
   "file_extension": ".py",
   "mimetype": "text/x-python",
   "name": "python",
   "nbconvert_exporter": "python",
   "pygments_lexer": "ipython3",
   "version": "3.8.5"
  }
 },
 "nbformat": 4,
 "nbformat_minor": 4
}
