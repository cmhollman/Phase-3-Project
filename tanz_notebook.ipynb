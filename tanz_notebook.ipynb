{
 "cells": [
  {
   "cell_type": "markdown",
   "metadata": {
    "ExecuteTime": {
     "end_time": "2022-04-22T21:39:05.556059Z",
     "start_time": "2022-04-22T21:39:05.547916Z"
    }
   },
   "source": [
    "## Final Project Submission\n",
    "\n",
    "Please fill out:\n",
    "* Student name: Christopher Hollman\n",
    "* Student pace: self paced\n",
    "* Scheduled project review date/time: \n",
    "* Instructor name: Abhineet Kulkarni\n",
    "* Blog post URL: https://medium.com/@chollman91/weather-analysis-of-colbert-wa-for-june-11th-from-1970-2021-63671b0c0061\n"
   ]
  },
  {
   "cell_type": "markdown",
   "metadata": {},
   "source": [
    "# Project Overview:\n",
    "\n",
    "The country of Tanzania is partially dependent on a number of outside organizations and governments to supply water to the country's population. Since these water sources are funded, installed, and maintained by a number of different parties, it is a logistical challenge to oversee them all and anticipate which areas are in need of repair or replacement. This project aims to use machine learning to identify sources that are non functional or failing so that the Government of Tanzania can efficiently direct their limited resources to the areas that need them most. "
   ]
  },
  {
   "cell_type": "markdown",
   "metadata": {},
   "source": [
    "## Project Goals: \n",
    "\n",
    "To build a classification model that significantly outperforms a baseline decision tree \"stump\" model in terms of precision and recall for the target classification group (1). These values are important as we want to be able to detect and classify a high percentage of the total failed waterpoints, but also don't want to waste government resources investigating fully functional waterpoints that have been incorrectly tagged as non functional."
   ]
  },
  {
   "cell_type": "code",
   "execution_count": 619,
   "metadata": {
    "ExecuteTime": {
     "end_time": "2022-05-16T21:18:47.259670Z",
     "start_time": "2022-05-16T21:18:47.243491Z"
    }
   },
   "outputs": [],
   "source": [
    "#importing necessary tools\n",
    "import pandas as pd\n",
    "import numpy as np\n",
    "import seaborn as sns\n",
    "import matplotlib.pyplot as plt\n",
    "import matplotlib.ticker as mtick\n",
    "%matplotlib inline\n",
    "from sklearn.preprocessing import OneHotEncoder\n",
    "from sklearn.model_selection import GridSearchCV\n",
    "from sklearn.model_selection import train_test_split\n",
    "from sklearn.ensemble import RandomForestClassifier \n",
    "from sklearn.tree import DecisionTreeClassifier\n",
    "from xgboost.sklearn import XGBClassifier \n",
    "from sklearn.metrics import classification_report\n",
    "from sklearn.metrics import confusion_matrix\n",
    "import warnings\n",
    "warnings.filterwarnings('ignore')"
   ]
  },
  {
   "cell_type": "code",
   "execution_count": 620,
   "metadata": {
    "ExecuteTime": {
     "end_time": "2022-05-16T21:18:47.937411Z",
     "start_time": "2022-05-16T21:18:47.444393Z"
    }
   },
   "outputs": [],
   "source": [
    "training_labels = pd.read_csv('data/training_set_labels.csv')\n",
    "training_values = pd.read_csv('data/training_set_values.csv')\n",
    "combined_df = training_labels.merge(training_values)\n"
   ]
  },
  {
   "cell_type": "code",
   "execution_count": 621,
   "metadata": {
    "ExecuteTime": {
     "end_time": "2022-05-16T21:18:47.940831Z",
     "start_time": "2022-05-16T21:18:47.938595Z"
    }
   },
   "outputs": [
    {
     "data": {
      "text/plain": [
       "(59400, 41)"
      ]
     },
     "execution_count": 621,
     "metadata": {},
     "output_type": "execute_result"
    }
   ],
   "source": [
    "combined_df.shape"
   ]
  },
  {
   "cell_type": "code",
   "execution_count": 622,
   "metadata": {
    "ExecuteTime": {
     "end_time": "2022-05-16T21:18:47.950759Z",
     "start_time": "2022-05-16T21:18:47.942243Z"
    }
   },
   "outputs": [
    {
     "data": {
      "text/plain": [
       "VWC                 36793\n",
       "WUG                  5206\n",
       "Water authority      3153\n",
       "WUA                  2883\n",
       "Water Board          2748\n",
       "Parastatal           1680\n",
       "Private operator     1063\n",
       "Company              1061\n",
       "Other                 766\n",
       "SWC                    97\n",
       "Trust                  72\n",
       "None                    1\n",
       "Name: scheme_management, dtype: int64"
      ]
     },
     "execution_count": 622,
     "metadata": {},
     "output_type": "execute_result"
    }
   ],
   "source": [
    "training_values['scheme_management'].value_counts()"
   ]
  },
  {
   "cell_type": "markdown",
   "metadata": {},
   "source": [
    "## Initial Data Exploration:\n",
    "The target variable for this dataset is currently split into three categories. For our purposes\n",
    "any source that is not labeled as functional will need attention, eliminating the need to delineate\n",
    "between the two other categories."
   ]
  },
  {
   "cell_type": "code",
   "execution_count": 623,
   "metadata": {
    "ExecuteTime": {
     "end_time": "2022-05-16T21:18:48.300115Z",
     "start_time": "2022-05-16T21:18:48.277244Z"
    }
   },
   "outputs": [
    {
     "data": {
      "text/plain": [
       "functional                 32259\n",
       "non functional             22824\n",
       "functional needs repair     4317\n",
       "Name: status_group, dtype: int64"
      ]
     },
     "execution_count": 623,
     "metadata": {},
     "output_type": "execute_result"
    }
   ],
   "source": [
    "training_labels.status_group.value_counts()"
   ]
  },
  {
   "cell_type": "code",
   "execution_count": 624,
   "metadata": {
    "ExecuteTime": {
     "end_time": "2022-05-16T21:18:48.541740Z",
     "start_time": "2022-05-16T21:18:48.494541Z"
    }
   },
   "outputs": [],
   "source": [
    "#Converting 3 labels into binary categories. \n",
    "label_conversions = {\n",
    "    'functional':0,\n",
    "    'functional needs repair':1,\n",
    "    'non functional':1\n",
    "}\n",
    "y = training_labels['status_group'].replace(label_conversions) "
   ]
  },
  {
   "cell_type": "markdown",
   "metadata": {
    "ExecuteTime": {
     "end_time": "2022-05-03T18:07:41.429016Z",
     "start_time": "2022-05-03T18:07:41.421159Z"
    }
   },
   "source": [
    "## Exploration of Predictors:\n",
    "There are quite a few categories that seem to be very similar to one another if not redundant.\n",
    "We will drop a number of these to simplify our model."
   ]
  },
  {
   "cell_type": "code",
   "execution_count": 625,
   "metadata": {
    "ExecuteTime": {
     "end_time": "2022-05-16T21:18:48.887779Z",
     "start_time": "2022-05-16T21:18:48.876587Z"
    },
    "scrolled": true
   },
   "outputs": [
    {
     "data": {
      "text/plain": [
       "id                         int64\n",
       "amount_tsh               float64\n",
       "date_recorded             object\n",
       "funder                    object\n",
       "gps_height                 int64\n",
       "installer                 object\n",
       "longitude                float64\n",
       "latitude                 float64\n",
       "wpt_name                  object\n",
       "num_private                int64\n",
       "basin                     object\n",
       "subvillage                object\n",
       "region                    object\n",
       "region_code                int64\n",
       "district_code              int64\n",
       "lga                       object\n",
       "ward                      object\n",
       "population                 int64\n",
       "public_meeting            object\n",
       "recorded_by               object\n",
       "scheme_management         object\n",
       "scheme_name               object\n",
       "permit                    object\n",
       "construction_year          int64\n",
       "extraction_type           object\n",
       "extraction_type_group     object\n",
       "extraction_type_class     object\n",
       "management                object\n",
       "management_group          object\n",
       "payment                   object\n",
       "payment_type              object\n",
       "water_quality             object\n",
       "quality_group             object\n",
       "quantity                  object\n",
       "quantity_group            object\n",
       "source                    object\n",
       "source_type               object\n",
       "source_class              object\n",
       "waterpoint_type           object\n",
       "waterpoint_type_group     object\n",
       "dtype: object"
      ]
     },
     "execution_count": 625,
     "metadata": {},
     "output_type": "execute_result"
    }
   ],
   "source": [
    "training_values.dtypes"
   ]
  },
  {
   "cell_type": "code",
   "execution_count": 664,
   "metadata": {
    "ExecuteTime": {
     "end_time": "2022-05-16T21:40:51.189268Z",
     "start_time": "2022-05-16T21:40:51.184398Z"
    }
   },
   "outputs": [],
   "source": [
    "#These columns are either duplicates or more poorly categorized versions of columns that we kept\n",
    "\n",
    "unusable_columns = ['id','date_recorded', 'wpt_name', 'num_private', \n",
    "                    'subvillage','lga', 'ward', \n",
    "                    'recorded_by', 'extraction_type_group', 'extraction_type', \n",
    "                    'scheme_name', 'management', 'waterpoint_type_group', \n",
    "                    'source', 'source_class', 'quantity_group', 'quality_group', \n",
    "                    'payment_type', 'latitude', 'longitude']"
   ]
  },
  {
   "cell_type": "code",
   "execution_count": 665,
   "metadata": {
    "ExecuteTime": {
     "end_time": "2022-05-16T21:40:53.508991Z",
     "start_time": "2022-05-16T21:40:53.472411Z"
    },
    "scrolled": true
   },
   "outputs": [
    {
     "data": {
      "text/plain": [
       "Index(['amount_tsh', 'funder', 'gps_height', 'installer', 'basin', 'region',\n",
       "       'region_code', 'district_code', 'population', 'public_meeting',\n",
       "       'scheme_management', 'permit', 'construction_year',\n",
       "       'extraction_type_class', 'management_group', 'payment', 'water_quality',\n",
       "       'quantity', 'source_type', 'waterpoint_type'],\n",
       "      dtype='object')"
      ]
     },
     "execution_count": 665,
     "metadata": {},
     "output_type": "execute_result"
    }
   ],
   "source": [
    "X_vals = training_values.drop(unusable_columns, axis=1)\n",
    "X_vals.columns"
   ]
  },
  {
   "cell_type": "code",
   "execution_count": 666,
   "metadata": {
    "ExecuteTime": {
     "end_time": "2022-05-16T21:40:56.261530Z",
     "start_time": "2022-05-16T21:40:56.195141Z"
    },
    "scrolled": true
   },
   "outputs": [
    {
     "data": {
      "text/plain": [
       "amount_tsh                  0\n",
       "funder                   3635\n",
       "gps_height                  0\n",
       "installer                3655\n",
       "basin                       0\n",
       "region                      0\n",
       "region_code                 0\n",
       "district_code               0\n",
       "population                  0\n",
       "public_meeting           3334\n",
       "scheme_management        3877\n",
       "permit                   3056\n",
       "construction_year           0\n",
       "extraction_type_class       0\n",
       "management_group            0\n",
       "payment                     0\n",
       "water_quality               0\n",
       "quantity                    0\n",
       "source_type                 0\n",
       "waterpoint_type             0\n",
       "dtype: int64"
      ]
     },
     "execution_count": 666,
     "metadata": {},
     "output_type": "execute_result"
    }
   ],
   "source": [
    "X_vals.isna().sum()"
   ]
  },
  {
   "cell_type": "markdown",
   "metadata": {
    "ExecuteTime": {
     "end_time": "2022-05-16T19:31:49.816213Z",
     "start_time": "2022-05-16T19:31:49.806005Z"
    }
   },
   "source": [
    "### Funder/Installer Columns:\n",
    "These columns posed a challenge in that they appear to have been entered manually, resulting in\n",
    "extremely high cardinality and many entries that are close to one another but misspelled or abbreviated.\n",
    "I limited my categories to the top 30, cleaned those entries up as best I could and categorized the rest as 'other'"
   ]
  },
  {
   "cell_type": "code",
   "execution_count": 667,
   "metadata": {
    "ExecuteTime": {
     "end_time": "2022-05-16T21:40:56.772450Z",
     "start_time": "2022-05-16T21:40:56.734547Z"
    }
   },
   "outputs": [
    {
     "name": "stdout",
     "output_type": "stream",
     "text": [
      "{'HESAWA', 'RWE', 'SEMA', 'WU', 'TASAF', 'Hesawa', 'District Council', 'TCRS', 'World Vision', 'Gover', 'Commu', 'DANIDA', 'Central government', 'Government', 'WEDECO', '0', 'DANID', 'Dmdd', 'AMREF', 'OXFAM', 'Community', 'KKKT', 'TWESA', 'DW', 'CES', 'World vision', 'LGA', 'District council', 'DWE', 'ACRA'}\n",
      "{'Hifab', 'World Bank', 'Ministry Of Water', 'Government Of Tanzania', 'Rc Church', 'Tasaf', 'Rwssp', 'Fini Water', 'Hesawa', 'Amref', 'District Council', 'Unicef', 'Netherlands', 'World Vision', 'Wateraid', 'Dwsp', '0', 'Germany Republi', 'Dhv', 'Adb', 'Private Individual', 'Lga', 'Danida', 'Kkkt', 'Dwe', 'Water', 'Tcrs', 'Isf', 'Norad', 'Oxfam'}\n"
     ]
    }
   ],
   "source": [
    "top_installers = set(X_vals['installer'].value_counts().index[:30].values)\n",
    "top_funders = set(X_vals['funder'].value_counts().index[:30].values)\n",
    "print(top_installers)\n",
    "print(top_funders)"
   ]
  },
  {
   "cell_type": "code",
   "execution_count": 668,
   "metadata": {
    "ExecuteTime": {
     "end_time": "2022-05-16T21:40:56.971604Z",
     "start_time": "2022-05-16T21:40:56.903138Z"
    }
   },
   "outputs": [],
   "source": [
    "#combining similar labels within top 30 and replacing remaining values with 'other'\n",
    "\n",
    "installer_replace = {\n",
    "    'Commu':'Community',\n",
    "    '0':'Unknown',\n",
    "    'DANID':'DANIDA',\n",
    "    'District council':'District Council',\n",
    "    'DW':'DWE',\n",
    "    'Gov':'Government',\n",
    "    'Gover':'Government',\n",
    "    'Central Government':'Government',\n",
    "    'HESAWA':'Hesawa',\n",
    "    'World vision':\"World Vision\"\n",
    "}\n",
    "\n",
    "X_vals['installer'].replace(installer_replace, inplace=True)\n",
    "\n",
    "X_vals['funder'].replace('0','Unknown', inplace=True)\n",
    "\n",
    "top_installers = set(X_vals['installer'].value_counts().index[:30].values)\n",
    "top_funders = set(X_vals['funder'].value_counts().index[:30].values)"
   ]
  },
  {
   "cell_type": "code",
   "execution_count": 669,
   "metadata": {
    "ExecuteTime": {
     "end_time": "2022-05-16T21:41:04.907146Z",
     "start_time": "2022-05-16T21:40:57.131917Z"
    }
   },
   "outputs": [],
   "source": [
    "for i in X_vals.index: \n",
    "    if X_vals['installer'][i] not in top_installers:\n",
    "        X_vals['installer'][i] = 'Other'\n",
    "\n",
    "for i in X_vals.index: \n",
    "    if X_vals['funder'][i] not in top_funders:\n",
    "        X_vals['funder'][i] = 'Other'     "
   ]
  },
  {
   "cell_type": "code",
   "execution_count": 670,
   "metadata": {
    "ExecuteTime": {
     "end_time": "2022-05-16T21:41:04.915716Z",
     "start_time": "2022-05-16T21:41:04.908296Z"
    }
   },
   "outputs": [
    {
     "data": {
      "text/plain": [
       "Other                     26129\n",
       "Government Of Tanzania     9084\n",
       "Danida                     3114\n",
       "Hesawa                     2202\n",
       "Rwssp                      1374\n",
       "World Bank                 1349\n",
       "Kkkt                       1287\n",
       "World Vision               1246\n",
       "Unicef                     1057\n",
       "Tasaf                       877\n",
       "District Council            843\n",
       "Dhv                         829\n",
       "Private Individual          826\n",
       "Dwsp                        811\n",
       "Unknown                     781\n",
       "Norad                       765\n",
       "Germany Republi             610\n",
       "Tcrs                        602\n",
       "Ministry Of Water           590\n",
       "Water                       583\n",
       "Dwe                         484\n",
       "Netherlands                 470\n",
       "Hifab                       450\n",
       "Adb                         448\n",
       "Lga                         442\n",
       "Amref                       425\n",
       "Fini Water                  393\n",
       "Oxfam                       359\n",
       "Wateraid                    333\n",
       "Rc Church                   321\n",
       "Isf                         316\n",
       "Name: funder, dtype: int64"
      ]
     },
     "execution_count": 670,
     "metadata": {},
     "output_type": "execute_result"
    }
   ],
   "source": [
    "X_vals['funder'].value_counts()"
   ]
  },
  {
   "cell_type": "code",
   "execution_count": 671,
   "metadata": {
    "ExecuteTime": {
     "end_time": "2022-05-16T21:41:04.925035Z",
     "start_time": "2022-05-16T21:41:04.917153Z"
    }
   },
   "outputs": [
    {
     "data": {
      "text/plain": [
       "Other                         23679\n",
       "DWE                           17648\n",
       "Government                     2318\n",
       "Community                      1613\n",
       "DANIDA                         1602\n",
       "Hesawa                         1379\n",
       "RWE                            1206\n",
       "District Council                943\n",
       "KKKT                            898\n",
       "Unknown                         780\n",
       "TCRS                            707\n",
       "World Vision                    678\n",
       "Central government              622\n",
       "CES                             610\n",
       "LGA                             408\n",
       "WEDECO                          397\n",
       "TASAF                           396\n",
       "AMREF                           329\n",
       "TWESA                           316\n",
       "WU                              301\n",
       "Dmdd                            287\n",
       "ACRA                            278\n",
       "SEMA                            249\n",
       "OXFAM                           234\n",
       "Da                              224\n",
       "Idara ya maji                   222\n",
       "UNICEF                          222\n",
       "Gove                            222\n",
       "Sengerema Water Department      214\n",
       "Kiliwater                       210\n",
       "NORAD                           208\n",
       "Name: installer, dtype: int64"
      ]
     },
     "execution_count": 671,
     "metadata": {},
     "output_type": "execute_result"
    }
   ],
   "source": [
    "X_vals['installer'].value_counts()"
   ]
  },
  {
   "cell_type": "code",
   "execution_count": 672,
   "metadata": {
    "ExecuteTime": {
     "end_time": "2022-05-16T21:41:04.931654Z",
     "start_time": "2022-05-16T21:41:04.926183Z"
    }
   },
   "outputs": [],
   "source": [
    "#At this point we will also categorize unknown scheme management values as such\n",
    "\n",
    "X_vals['scheme_management'].fillna('Unknown', inplace=True)\n",
    "X_vals['scheme_management'].replace('None', 'Unknown', inplace=True)"
   ]
  },
  {
   "cell_type": "markdown",
   "metadata": {},
   "source": [
    "### Dealing with missing values:\n",
    "At this point we will execute our train test split, as the imputed values here will otherwise cause potential data leakage when modeling.There are quite a few missing values, each of which we will deal with in a slightly different way. For construction year we will take the median of the dataset excluding zero values (2000) and replace any zeros with this number. For scheme management we will label these values as 'unknown'. For funder and installer we will list them with the majority of the values as 'other'. I used the 'pad' method for public meeting and permit in order to preserve the ratio of yes/no values."
   ]
  },
  {
   "cell_type": "code",
   "execution_count": 673,
   "metadata": {
    "ExecuteTime": {
     "end_time": "2022-05-16T21:41:04.946259Z",
     "start_time": "2022-05-16T21:41:04.932480Z"
    }
   },
   "outputs": [],
   "source": [
    "#Splitting data\n",
    "\n",
    "X_train, X_test, y_train, y_test = train_test_split(X_vals, y, test_size=.30, random_state=2)\n",
    "\n"
   ]
  },
  {
   "cell_type": "code",
   "execution_count": 674,
   "metadata": {
    "ExecuteTime": {
     "end_time": "2022-05-16T21:41:04.969437Z",
     "start_time": "2022-05-16T21:41:04.947133Z"
    }
   },
   "outputs": [
    {
     "data": {
      "text/plain": [
       "amount_tsh                  0\n",
       "funder                      0\n",
       "gps_height                  0\n",
       "installer                   0\n",
       "basin                       0\n",
       "region                      0\n",
       "region_code                 0\n",
       "district_code               0\n",
       "population                  0\n",
       "public_meeting           2300\n",
       "scheme_management           0\n",
       "permit                   2134\n",
       "construction_year           0\n",
       "extraction_type_class       0\n",
       "management_group            0\n",
       "payment                     0\n",
       "water_quality               0\n",
       "quantity                    0\n",
       "source_type                 0\n",
       "waterpoint_type             0\n",
       "dtype: int64"
      ]
     },
     "execution_count": 674,
     "metadata": {},
     "output_type": "execute_result"
    }
   ],
   "source": [
    "X_train.isna().sum()"
   ]
  },
  {
   "cell_type": "code",
   "execution_count": 675,
   "metadata": {
    "ExecuteTime": {
     "end_time": "2022-05-16T21:41:04.979938Z",
     "start_time": "2022-05-16T21:41:04.970413Z"
    }
   },
   "outputs": [
    {
     "name": "stdout",
     "output_type": "stream",
     "text": [
      "gps_height zeros: 14312\n",
      "constuction_year zeroes: 14540\n",
      "population zeroes: 15009\n"
     ]
    }
   ],
   "source": [
    "print('gps_height zeros:', len(X_train[X_train['gps_height']==0]))\n",
    "print('constuction_year zeroes:', len(X_train[X_train['construction_year']==0]))\n",
    "print('population zeroes:', len(X_train[X_train['population']==0]))\n",
    "\n",
    "#these gps height values seem unlikely to be accurate, which can be explored in later versions of the model"
   ]
  },
  {
   "cell_type": "code",
   "execution_count": 676,
   "metadata": {
    "ExecuteTime": {
     "end_time": "2022-05-16T21:41:04.987251Z",
     "start_time": "2022-05-16T21:41:04.981745Z"
    },
    "scrolled": false
   },
   "outputs": [
    {
     "data": {
      "text/plain": [
       "count    41580.000000\n",
       "mean       181.191053\n",
       "std        488.833915\n",
       "min          0.000000\n",
       "25%          0.000000\n",
       "50%         25.000000\n",
       "75%        215.000000\n",
       "max      30500.000000\n",
       "Name: population, dtype: float64"
      ]
     },
     "execution_count": 676,
     "metadata": {},
     "output_type": "execute_result"
    }
   ],
   "source": [
    "#Zeros seem to be okay here, as most of are values are quite low, indicating that this is likely a real number\n",
    "#rather than a numerical placeholder.\n",
    "\n",
    "X_train['population'].describe()"
   ]
  },
  {
   "cell_type": "code",
   "execution_count": 677,
   "metadata": {
    "ExecuteTime": {
     "end_time": "2022-05-16T21:41:04.998680Z",
     "start_time": "2022-05-16T21:41:04.988899Z"
    }
   },
   "outputs": [
    {
     "name": "stdout",
     "output_type": "stream",
     "text": [
      "0       14540\n",
      "2010     1875\n",
      "2008     1847\n",
      "2009     1755\n",
      "2000     1437\n",
      "2007     1122\n",
      "2006     1026\n",
      "2003      870\n",
      "2011      867\n",
      "2004      803\n",
      "2012      762\n",
      "1995      745\n",
      "1978      738\n",
      "2002      731\n",
      "2005      720\n",
      "1999      692\n",
      "1998      679\n",
      "1990      669\n",
      "1985      616\n",
      "1996      574\n",
      "1980      554\n",
      "1984      537\n",
      "1982      513\n",
      "1972      507\n",
      "1994      494\n",
      "1974      465\n",
      "1997      454\n",
      "1992      435\n",
      "1993      417\n",
      "2001      376\n",
      "1988      365\n",
      "1983      358\n",
      "1986      311\n",
      "1975      300\n",
      "1976      290\n",
      "1970      281\n",
      "1991      235\n",
      "1989      219\n",
      "1987      204\n",
      "1981      178\n",
      "1979      141\n",
      "1977      132\n",
      "2013      129\n",
      "1973      125\n",
      "1971       96\n",
      "1960       78\n",
      "1967       69\n",
      "1963       66\n",
      "1968       59\n",
      "1969       39\n",
      "1964       27\n",
      "1962       19\n",
      "1961       14\n",
      "1966       13\n",
      "1965       12\n",
      "Name: construction_year, dtype: int64\n"
     ]
    }
   ],
   "source": [
    "#replacing unknown construction years with median value\n",
    "\n",
    "print(X_train['construction_year'].value_counts())\n",
    "non_zero_median = X_train[X_train['construction_year']!=0]['construction_year'].median()\n",
    "X_train['construction_year'].replace(0,non_zero_median, inplace=True)\n",
    "X_test['construction_year'].replace(0,non_zero_median, inplace=True)"
   ]
  },
  {
   "cell_type": "code",
   "execution_count": 678,
   "metadata": {
    "ExecuteTime": {
     "end_time": "2022-05-16T21:41:05.018413Z",
     "start_time": "2022-05-16T21:41:04.999558Z"
    },
    "scrolled": true
   },
   "outputs": [],
   "source": [
    "#padding true/false categories and converting to integers\n",
    "\n",
    "X_train['public_meeting'] = X_train['public_meeting'].fillna(method='pad').astype(int)\n",
    "X_test['public_meeting'] = X_test['public_meeting'].fillna(method='pad').astype(int)\n",
    "\n",
    "\n",
    "X_train['permit'] = X_train['permit'].fillna(method='pad').astype(int)\n",
    "X_test['permit'] = X_test['permit'].fillna(method='pad').astype(int)\n"
   ]
  },
  {
   "cell_type": "code",
   "execution_count": 679,
   "metadata": {
    "ExecuteTime": {
     "end_time": "2022-05-16T21:41:05.029584Z",
     "start_time": "2022-05-16T21:41:05.019607Z"
    }
   },
   "outputs": [
    {
     "name": "stdout",
     "output_type": "stream",
     "text": [
      "2000    15977\n",
      "2010     1875\n",
      "2008     1847\n",
      "2009     1755\n",
      "2007     1122\n",
      "2006     1026\n",
      "2003      870\n",
      "2011      867\n",
      "2004      803\n",
      "2012      762\n",
      "1995      745\n",
      "1978      738\n",
      "2002      731\n",
      "2005      720\n",
      "1999      692\n",
      "1998      679\n",
      "1990      669\n",
      "1985      616\n",
      "1996      574\n",
      "1980      554\n",
      "1984      537\n",
      "1982      513\n",
      "1972      507\n",
      "1994      494\n",
      "1974      465\n",
      "1997      454\n",
      "1992      435\n",
      "1993      417\n",
      "2001      376\n",
      "1988      365\n",
      "1983      358\n",
      "1986      311\n",
      "1975      300\n",
      "1976      290\n",
      "1970      281\n",
      "1991      235\n",
      "1989      219\n",
      "1987      204\n",
      "1981      178\n",
      "1979      141\n",
      "1977      132\n",
      "2013      129\n",
      "1973      125\n",
      "1971       96\n",
      "1960       78\n",
      "1967       69\n",
      "1963       66\n",
      "1968       59\n",
      "1969       39\n",
      "1964       27\n",
      "1962       19\n",
      "1961       14\n",
      "1966       13\n",
      "1965       12\n",
      "Name: construction_year, dtype: int64\n"
     ]
    }
   ],
   "source": [
    "#replacing unknown construction years with median value\n",
    "\n",
    "print(X_train['construction_year'].value_counts())\n",
    "non_zero_median = X_train[X_train['construction_year']!=0]['construction_year'].median()\n",
    "X_train['construction_year'].replace(0,non_zero_median, inplace=True)\n",
    "X_test['construction_year'].replace(0,non_zero_median, inplace=True)"
   ]
  },
  {
   "cell_type": "markdown",
   "metadata": {},
   "source": [
    "## Fitting Decision Tree Model:\n",
    "The model we will use as a baseline will be Decision tree limited to a max depth of 3. This is a relatively simple model that is commonly used for baseline scores."
   ]
  },
  {
   "cell_type": "code",
   "execution_count": 680,
   "metadata": {
    "ExecuteTime": {
     "end_time": "2022-05-16T21:41:05.032504Z",
     "start_time": "2022-05-16T21:41:05.030576Z"
    }
   },
   "outputs": [],
   "source": [
    "categoricals = [ \n",
    "    'installer', \n",
    "    'funder', \n",
    "    'basin',\n",
    "    'region',\n",
    "    'scheme_management',\n",
    "    'extraction_type_class',\n",
    "    'management_group',\n",
    "    'payment',\n",
    "    'quantity',\n",
    "    'source_type',\n",
    "    'waterpoint_type',\n",
    "    'water_quality'\n",
    "]        "
   ]
  },
  {
   "cell_type": "code",
   "execution_count": 681,
   "metadata": {
    "ExecuteTime": {
     "end_time": "2022-05-16T21:41:05.046733Z",
     "start_time": "2022-05-16T21:41:05.033763Z"
    }
   },
   "outputs": [
    {
     "data": {
      "text/plain": [
       "installer                0\n",
       "funder                   0\n",
       "basin                    0\n",
       "region                   0\n",
       "scheme_management        0\n",
       "extraction_type_class    0\n",
       "management_group         0\n",
       "payment                  0\n",
       "quantity                 0\n",
       "source_type              0\n",
       "waterpoint_type          0\n",
       "water_quality            0\n",
       "dtype: int64"
      ]
     },
     "execution_count": 681,
     "metadata": {},
     "output_type": "execute_result"
    }
   ],
   "source": [
    "X_test[categoricals].isna().sum()"
   ]
  },
  {
   "cell_type": "code",
   "execution_count": 682,
   "metadata": {
    "ExecuteTime": {
     "end_time": "2022-05-16T21:41:05.162666Z",
     "start_time": "2022-05-16T21:41:05.047636Z"
    },
    "scrolled": false
   },
   "outputs": [],
   "source": [
    "#one hot encoding categorical values\n",
    "\n",
    "ohe = OneHotEncoder()\n",
    "\n",
    "# passing categorical columns\n",
    "ohe.fit(X_train[categoricals])\n",
    "X_train_ohe = ohe.transform(X_train[categoricals]).toarray()"
   ]
  },
  {
   "cell_type": "code",
   "execution_count": 683,
   "metadata": {
    "ExecuteTime": {
     "end_time": "2022-05-16T21:41:05.616240Z",
     "start_time": "2022-05-16T21:41:05.610250Z"
    }
   },
   "outputs": [],
   "source": [
    "X_train_ohe = pd.DataFrame(X_train_ohe, columns = ohe.get_feature_names(categoricals), index = X_train.index)"
   ]
  },
  {
   "cell_type": "code",
   "execution_count": 684,
   "metadata": {
    "ExecuteTime": {
     "end_time": "2022-05-16T21:41:06.207147Z",
     "start_time": "2022-05-16T21:41:06.133693Z"
    }
   },
   "outputs": [],
   "source": [
    "X_train.drop(categoricals, axis=1, inplace=True)\n",
    "X_train_ohe = pd.concat([X_train_ohe, X_train], axis=1)"
   ]
  },
  {
   "cell_type": "code",
   "execution_count": 685,
   "metadata": {
    "ExecuteTime": {
     "end_time": "2022-05-16T21:41:07.467736Z",
     "start_time": "2022-05-16T21:41:07.371047Z"
    }
   },
   "outputs": [],
   "source": [
    "#one hot encoding categorical values\n",
    "\n",
    "ohe = OneHotEncoder()\n",
    "\n",
    "# passing categorical columns\n",
    "ohe.fit(X_test[categoricals])\n",
    "X_test_ohe = ohe.transform(X_test[categoricals]).toarray()"
   ]
  },
  {
   "cell_type": "code",
   "execution_count": 686,
   "metadata": {
    "ExecuteTime": {
     "end_time": "2022-05-16T21:41:08.013896Z",
     "start_time": "2022-05-16T21:41:08.009457Z"
    }
   },
   "outputs": [],
   "source": [
    "X_test_ohe = pd.DataFrame(X_test_ohe, columns = ohe.get_feature_names(categoricals), index = X_test.index)"
   ]
  },
  {
   "cell_type": "code",
   "execution_count": 687,
   "metadata": {
    "ExecuteTime": {
     "end_time": "2022-05-16T21:41:08.919327Z",
     "start_time": "2022-05-16T21:41:08.877384Z"
    }
   },
   "outputs": [],
   "source": [
    "X_test.drop(categoricals, axis=1, inplace=True)\n",
    "X_test_ohe = pd.concat([X_test_ohe, X_test], axis=1)"
   ]
  },
  {
   "cell_type": "code",
   "execution_count": 698,
   "metadata": {
    "ExecuteTime": {
     "end_time": "2022-05-16T21:46:08.511720Z",
     "start_time": "2022-05-16T21:46:08.317417Z"
    },
    "scrolled": true
   },
   "outputs": [
    {
     "name": "stdout",
     "output_type": "stream",
     "text": [
      "Untuned Decision Tree Scores:\n",
      "               precision    recall  f1-score   support\n",
      "\n",
      "           0       0.68      0.90      0.77      9647\n",
      "           1       0.81      0.49      0.61      8173\n",
      "\n",
      "    accuracy                           0.71     17820\n",
      "   macro avg       0.74      0.70      0.69     17820\n",
      "weighted avg       0.74      0.71      0.70     17820\n",
      "\n",
      "Training Scores:------------------------------------------------------  \n",
      "               precision    recall  f1-score   support\n",
      "\n",
      "           0       0.68      0.90      0.77     22612\n",
      "           1       0.80      0.49      0.61     18968\n",
      "\n",
      "    accuracy                           0.71     41580\n",
      "   macro avg       0.74      0.69      0.69     41580\n",
      "weighted avg       0.73      0.71      0.70     41580\n",
      "\n"
     ]
    }
   ],
   "source": [
    "# Fitting Decision Tree\n",
    "clf_dt = DecisionTreeClassifier(max_depth=3)\n",
    "clf_dt.fit(X_train_ohe, y_train)\n",
    " \n",
    "print('Untuned Decision Tree Scores:\\n', classification_report(y_test,clf_dt.predict(X_test_ohe)))\n",
    "print('Training Scores:------------------------------------------------------  \\n', \n",
    "      classification_report(y_train,clf_dt.predict(X_train_ohe)))"
   ]
  },
  {
   "cell_type": "markdown",
   "metadata": {},
   "source": [
    "#### Baseline Decision Tree Performance:\n",
    "The metrics to focus on are precision and recall for 1 values. This model has .81 precision, meaning that\n",
    "it is correct 81% of the time when it predicts that a water sources is in need or repair or replacement. The .49 recall score indicates that this model correctly identifies only 49% of total sources that are in our target category. Similar train/test scores suggest the model is avoiding and major over or under fitting. This is a serviceable baseline model but can certainly be improved."
   ]
  },
  {
   "cell_type": "code",
   "execution_count": 699,
   "metadata": {
    "ExecuteTime": {
     "end_time": "2022-05-16T21:48:21.173685Z",
     "start_time": "2022-05-16T21:47:20.835973Z"
    }
   },
   "outputs": [
    {
     "name": "stdout",
     "output_type": "stream",
     "text": [
      "{'criterion': 'entropy', 'max_depth': 25, 'min_samples_split': 16}\n",
      "0.775901875901876\n"
     ]
    }
   ],
   "source": [
    "\n",
    "param_grid_dt = {\n",
    "    'criterion': ['gini', 'entropy'],\n",
    "    'max_depth': [2, 4, 6, 8, 10, 15, 20, 25, 30],\n",
    "    'min_samples_split': [10, 12, 14, 15, 16, 17]\n",
    "}\n",
    "\n",
    "gs_tree = GridSearchCV(clf_dt, param_grid_dt, cv=3)\n",
    "gs_tree.fit(X_train_ohe, y_train)\n",
    "\n",
    "print(gs_tree.best_params_)\n",
    "print(gs_tree.best_score_)"
   ]
  },
  {
   "cell_type": "code",
   "execution_count": 700,
   "metadata": {
    "ExecuteTime": {
     "end_time": "2022-05-16T21:54:03.409473Z",
     "start_time": "2022-05-16T21:54:02.736866Z"
    },
    "scrolled": true
   },
   "outputs": [
    {
     "name": "stdout",
     "output_type": "stream",
     "text": [
      "Tuned Decison Tree Scores: \n",
      "               precision    recall  f1-score   support\n",
      "\n",
      "           0       0.78      0.84      0.81      9647\n",
      "           1       0.79      0.71      0.75      8173\n",
      "\n",
      "    accuracy                           0.78     17820\n",
      "   macro avg       0.79      0.78      0.78     17820\n",
      "weighted avg       0.78      0.78      0.78     17820\n",
      "\n",
      "Training Scores:------------------------------------------------------  \n",
      "               precision    recall  f1-score   support\n",
      "\n",
      "           0       0.84      0.92      0.88     22612\n",
      "           1       0.89      0.79      0.84     18968\n",
      "\n",
      "    accuracy                           0.86     41580\n",
      "   macro avg       0.87      0.86      0.86     41580\n",
      "weighted avg       0.86      0.86      0.86     41580\n",
      "\n"
     ]
    }
   ],
   "source": [
    "clf_dt_2 = DecisionTreeClassifier(\n",
    "    criterion='entropy', \n",
    "    max_depth=25, \n",
    "    min_samples_split=16\n",
    ")\n",
    "clf_dt_2.fit(X_train_ohe, y_train)\n",
    "print('Tuned Decison Tree Scores: \\n', classification_report(y_test,clf_dt_2.predict(X_test_ohe)))\n",
    "print('Training Scores:------------------------------------------------------  \\n', \n",
    "      classification_report(y_train,clf_dt_2.predict(X_train_ohe)))"
   ]
  },
  {
   "cell_type": "markdown",
   "metadata": {},
   "source": [
    "### Tuned Decision Tree Performance:\n",
    "With these tuned parameters our model is less precise (79%) when categorizing a source as in need of repair, but has gained performance in terms of detecting more sources that should be flagged as in need of service. The overall accuracy of the model improved marginally but these parameters do seem to over fit the data slightly. "
   ]
  },
  {
   "cell_type": "markdown",
   "metadata": {},
   "source": [
    "## Fitting a Random Forest Model:\n",
    "Given the amount of noise present in our data, it is likely that we can improve our model by fitting a random\n",
    "forest model made up of a consensus of many simple decision trees. "
   ]
  },
  {
   "cell_type": "code",
   "execution_count": 704,
   "metadata": {
    "ExecuteTime": {
     "end_time": "2022-05-16T22:05:26.482244Z",
     "start_time": "2022-05-16T22:05:19.943691Z"
    },
    "scrolled": false
   },
   "outputs": [
    {
     "name": "stdout",
     "output_type": "stream",
     "text": [
      "Random Forest Scores \n",
      "               precision    recall  f1-score   support\n",
      "\n",
      "           0       0.81      0.85      0.83      9647\n",
      "           1       0.81      0.76      0.78      8173\n",
      "\n",
      "    accuracy                           0.81     17820\n",
      "   macro avg       0.81      0.80      0.81     17820\n",
      "weighted avg       0.81      0.81      0.81     17820\n",
      "\n",
      "Training Scores:------------------------------------------------------  \n",
      "               precision    recall  f1-score   support\n",
      "\n",
      "           0       0.95      0.97      0.96     22612\n",
      "           1       0.96      0.94      0.95     18968\n",
      "\n",
      "    accuracy                           0.96     41580\n",
      "   macro avg       0.96      0.95      0.95     41580\n",
      "weighted avg       0.96      0.96      0.96     41580\n",
      "\n"
     ]
    }
   ],
   "source": [
    "#fit random forest \n",
    "clf_rf = RandomForestClassifier(random_state=42) \n",
    "clf_rf.fit(X_train_ohe,y_train)\n",
    "print('Random Forest Scores \\n', classification_report(y_test,clf_rf.predict(X_test_ohe)))\n",
    "print('Training Scores:------------------------------------------------------  \\n', \n",
    "      classification_report(y_train,clf_rf.predict(X_train_ohe)))\n"
   ]
  },
  {
   "cell_type": "markdown",
   "metadata": {},
   "source": [
    "### Untuned Random Forest Performance:\n",
    "This more complex model resulted in a similar precision for our target category without the drop off in recall as well as better overall accuracy. This is already a good improvement over decision trees, but we appear to be severely over fitting."
   ]
  },
  {
   "cell_type": "code",
   "execution_count": 706,
   "metadata": {
    "ExecuteTime": {
     "end_time": "2022-05-16T22:21:08.506469Z",
     "start_time": "2022-05-16T22:08:08.424748Z"
    },
    "scrolled": true
   },
   "outputs": [
    {
     "name": "stdout",
     "output_type": "stream",
     "text": [
      "{'criterion': 'entropy', 'max_depth': None, 'min_samples_leaf': 1, 'min_samples_split': 10, 'n_estimators': 150}\n",
      "RandomForestClassifier(criterion='entropy', min_samples_split=10,\n",
      "                       n_estimators=150, random_state=42)\n",
      "0.812049062049062\n"
     ]
    }
   ],
   "source": [
    "param_grid_rf = {\n",
    "    'n_estimators': [50, 100, 150],\n",
    "    'criterion': ['gini', 'entropy'],\n",
    "    'max_depth': [None, 5, 10],\n",
    "    'min_samples_split': [5,10,15],\n",
    "    'min_samples_leaf': [1, 3, 5]\n",
    "}\n",
    "\n",
    "\n",
    "gs_forest = GridSearchCV(clf_rf, param_grid_rf, cv=3)\n",
    "gs_forest.fit(X_train_ohe, y_train)\n",
    "\n",
    "print(gs_forest.best_params_)\n",
    "print(gs_forest.best_estimator_)\n",
    "print(gs_forest.best_score_)"
   ]
  },
  {
   "cell_type": "code",
   "execution_count": 716,
   "metadata": {
    "ExecuteTime": {
     "end_time": "2022-05-16T22:26:04.756780Z",
     "start_time": "2022-05-16T22:25:56.066961Z"
    }
   },
   "outputs": [
    {
     "name": "stdout",
     "output_type": "stream",
     "text": [
      "Tuned Random Forest Scores \n",
      "               precision    recall  f1-score   support\n",
      "\n",
      "           0       0.80      0.86      0.83      9647\n",
      "           1       0.82      0.75      0.79      8173\n",
      "\n",
      "    accuracy                           0.81     17820\n",
      "   macro avg       0.81      0.81      0.81     17820\n",
      "weighted avg       0.81      0.81      0.81     17820\n",
      "\n",
      "Training Scores:------------------------------------------------------  \n",
      "               precision    recall  f1-score   support\n",
      "\n",
      "           0       0.89      0.93      0.91     22612\n",
      "           1       0.92      0.86      0.88     18968\n",
      "\n",
      "    accuracy                           0.90     41580\n",
      "   macro avg       0.90      0.89      0.90     41580\n",
      "weighted avg       0.90      0.90      0.90     41580\n",
      "\n"
     ]
    }
   ],
   "source": [
    "clf_rf_2 = RandomForestClassifier(\n",
    "    n_estimators=150,\n",
    "    criterion='entropy',\n",
    "    max_depth=None,\n",
    "    min_samples_split = 10,\n",
    "    min_samples_leaf = 1,\n",
    "    random_state=42) \n",
    "clf_rf_2.fit(X_train_ohe, y_train)\n",
    "print('Tuned Random Forest Scores \\n', classification_report(y_test,clf_rf_2.predict(X_test_ohe)))\n",
    "print('Training Scores:------------------------------------------------------  \\n', \n",
    "      classification_report(y_train,clf_rf_2.predict(X_train_ohe)))\n"
   ]
  },
  {
   "cell_type": "markdown",
   "metadata": {},
   "source": [
    "# Tuned Random Forest Performance: \n",
    "We were able to increase the precision of our model for our target category by 1 point at the cost of 1 point of recall, which is somewhat acceptable. Overall model accuracy remained the same. We have reduced over fitting but it still does seem to be an issue"
   ]
  },
  {
   "cell_type": "markdown",
   "metadata": {},
   "source": [
    "## Fitting XG Boost Model\n",
    "This tends to be one of the more accurate models readily available for classification tasks. It should perform similarly or better as compared to the Random Forest model. "
   ]
  },
  {
   "cell_type": "code",
   "execution_count": 717,
   "metadata": {
    "ExecuteTime": {
     "end_time": "2022-05-16T22:27:59.042934Z",
     "start_time": "2022-05-16T22:27:53.086721Z"
    },
    "scrolled": true
   },
   "outputs": [
    {
     "name": "stdout",
     "output_type": "stream",
     "text": [
      "XG Boost Scores \n",
      "               precision    recall  f1-score   support\n",
      "\n",
      "           0       0.78      0.88      0.83      9647\n",
      "           1       0.83      0.72      0.77      8173\n",
      "\n",
      "    accuracy                           0.80     17820\n",
      "   macro avg       0.81      0.80      0.80     17820\n",
      "weighted avg       0.81      0.80      0.80     17820\n",
      "\n",
      "Training Scores:------------------------------------------------------  \n",
      "               precision    recall  f1-score   support\n",
      "\n",
      "           0       0.82      0.91      0.86     22612\n",
      "           1       0.88      0.75      0.81     18968\n",
      "\n",
      "    accuracy                           0.84     41580\n",
      "   macro avg       0.85      0.83      0.84     41580\n",
      "weighted avg       0.85      0.84      0.84     41580\n",
      "\n"
     ]
    }
   ],
   "source": [
    "# XGBoost\n",
    "clf_xgb = XGBClassifier()\n",
    "clf_xgb.fit(X_train_ohe,y_train)\n",
    "print('XG Boost Scores \\n', classification_report(y_test,clf_xgb.predict(X_test_ohe)))\n",
    "print('Training Scores:------------------------------------------------------  \\n', \n",
    "      classification_report(y_train,clf_xgb.predict(X_train_ohe)))\n"
   ]
  },
  {
   "cell_type": "markdown",
   "metadata": {},
   "source": [
    "### Untuned XG Boost Model Performance:\n",
    "An untuned XB Boost model results in lightly better precision but lower recall and accuracy scores than our tuned random forest."
   ]
  },
  {
   "cell_type": "code",
   "execution_count": 718,
   "metadata": {
    "ExecuteTime": {
     "end_time": "2022-05-16T22:29:23.037110Z",
     "start_time": "2022-05-16T22:29:23.032762Z"
    }
   },
   "outputs": [],
   "source": [
    "param_grid_xgb = {\n",
    "    'learning_rate': [0.1, .2, .3],\n",
    "    'max_depth': [2,4,6],\n",
    "    'subsample': [0.5, 0.7, 1],\n",
    "    'n_estimators': [100, 150, 200]\n",
    "}"
   ]
  },
  {
   "cell_type": "code",
   "execution_count": 38,
   "metadata": {
    "ExecuteTime": {
     "end_time": "2022-05-09T19:05:10.824808Z",
     "start_time": "2022-05-09T18:29:37.152891Z"
    }
   },
   "outputs": [
    {
     "name": "stdout",
     "output_type": "stream",
     "text": [
      "{'learning_rate': 0.3, 'max_depth': 6, 'n_estimators': 200, 'subsample': 0.7}\n",
      "XGBClassifier(base_score=0.5, booster='gbtree', colsample_bylevel=1,\n",
      "              colsample_bynode=1, colsample_bytree=1, gamma=0, gpu_id=-1,\n",
      "              importance_type='gain', interaction_constraints='',\n",
      "              learning_rate=0.3, max_delta_step=0, max_depth=6,\n",
      "              min_child_weight=1, missing=nan, monotone_constraints='()',\n",
      "              n_estimators=200, n_jobs=0, num_parallel_tree=1, random_state=0,\n",
      "              reg_alpha=0, reg_lambda=1, scale_pos_weight=1, subsample=0.7,\n",
      "              tree_method='exact', validate_parameters=1, verbosity=None)\n",
      "0.8042648709315378\n"
     ]
    }
   ],
   "source": [
    "gs_boost = GridSearchCV(clf_xgb, param_grid_xgb, cv=3)\n",
    "gs_boost.fit(X_train_ohe, y_train)\n",
    "print(gs_boost.best_params_)\n",
    "print(gs_boost.best_estimator_)\n",
    "print(gs_boost.best_score_)"
   ]
  },
  {
   "cell_type": "code",
   "execution_count": 719,
   "metadata": {
    "ExecuteTime": {
     "end_time": "2022-05-16T22:31:11.847140Z",
     "start_time": "2022-05-16T22:30:59.337022Z"
    },
    "scrolled": true
   },
   "outputs": [
    {
     "name": "stdout",
     "output_type": "stream",
     "text": [
      "Tuned XG Boost Scores \n",
      "               precision    recall  f1-score   support\n",
      "\n",
      "           0       0.80      0.86      0.83      9647\n",
      "           1       0.82      0.75      0.78      8173\n",
      "\n",
      "    accuracy                           0.81     17820\n",
      "   macro avg       0.81      0.80      0.80     17820\n",
      "weighted avg       0.81      0.81      0.81     17820\n",
      "\n",
      "Training Scores:------------------------------------------------------  \n",
      "               precision    recall  f1-score   support\n",
      "\n",
      "           0       0.85      0.91      0.88     22612\n",
      "           1       0.89      0.81      0.85     18968\n",
      "\n",
      "    accuracy                           0.87     41580\n",
      "   macro avg       0.87      0.86      0.87     41580\n",
      "weighted avg       0.87      0.87      0.87     41580\n",
      "\n"
     ]
    }
   ],
   "source": [
    "clf_xgb_2 = XGBClassifier(learning_rate=0.3, max_depth= 6, n_estimators= 200, subsample=0.7)\n",
    "clf_xgb_2.fit(X_train_ohe, y_train)\n",
    "print('Tuned XG Boost Scores \\n', classification_report(y_test,clf_xgb_2.predict(X_test_ohe)))\n",
    "print('Training Scores:------------------------------------------------------  \\n', \n",
    "      classification_report(y_train,clf_xgb_2.predict(X_train_ohe)))\n"
   ]
  },
  {
   "cell_type": "markdown",
   "metadata": {},
   "source": [
    "### Tuned XG Boost Model Performance:\n",
    "None of the parameters in the grid search resulted in appreciably better performance. The tuned Random Forest and XGBoost models were very similar in terms of performance and have the best mix of precision and recall for the target group, meaning that a good portion of failures are being correctly categorized without wasting government resources investigating wells that are actually working properly. "
   ]
  },
  {
   "cell_type": "code",
   "execution_count": 736,
   "metadata": {
    "ExecuteTime": {
     "end_time": "2022-05-16T22:45:08.512558Z",
     "start_time": "2022-05-16T22:45:08.476552Z"
    }
   },
   "outputs": [],
   "source": [
    "importances = clf_rf_2.feature_importances_\n",
    "sorted_indices = np.argsort(importances)[::-1]"
   ]
  },
  {
   "cell_type": "code",
   "execution_count": 733,
   "metadata": {
    "ExecuteTime": {
     "end_time": "2022-05-16T22:43:50.970110Z",
     "start_time": "2022-05-16T22:43:50.803209Z"
    }
   },
   "outputs": [
    {
     "data": {
      "image/png": "[encoded data removed]",
      "text/plain": [
       "<Figure size 576x576 with 1 Axes>"
      ]
     },
     "metadata": {},
     "output_type": "display_data"
    }
   ],
   "source": [
    "def plot_feature_importances(model):\n",
    "    sns.set_style('darkgrid')\n",
    "    importances = model.feature_importances_\n",
    "    sorted_indices = np.argsort(importances)[::-1]\n",
    "    n_features = 15\n",
    "    plt.figure(figsize=(8,8))\n",
    "    plt.barh(range(15), importances[sorted_indices][:15], align='center') \n",
    "    plt.yticks(range(15), X_train_ohe.columns[sorted_indices][:15])\n",
    "    plt.xlabel('Feature importance')\n",
    "    plt.ylabel('Feature')\n",
    "    plt.title('Model Feature Importance')\n",
    "plot_feature_importances(clf_rf_2)"
   ]
  },
  {
   "cell_type": "code",
   "execution_count": 735,
   "metadata": {
    "ExecuteTime": {
     "end_time": "2022-05-16T22:44:25.546479Z",
     "start_time": "2022-05-16T22:44:24.998451Z"
    }
   },
   "outputs": [
    {
     "data": {
      "image/png": "[encoded data removed]",
      "text/plain": [
       "<Figure size 216x216 with 1 Axes>"
      ]
     },
     "metadata": {},
     "output_type": "display_data"
    }
   ],
   "source": [
    "y_pred = clf_rf_2.predict(X_test_ohe)\n",
    "\n",
    "confmat = confusion_matrix(y_true=y_test, y_pred=y_pred)\n",
    "\n",
    "fig,ax = plt.subplots(figsize=(3,3))\n",
    "ax.matshow(confmat, cmap=plt.cm.Blues, alpha=0.5)\n",
    "for x in range(confmat.shape[0]):\n",
    "    for y in range(confmat.shape[1]):\n",
    "        ax.text(x=x,y=y,\n",
    "               s=confmat[x,y],\n",
    "               va='center', ha='center')\n",
    "plt.xlabel('Predicted Label')\n",
    "plt.ylabel('True Label')\n",
    "plt.show()"
   ]
  },
  {
   "cell_type": "markdown",
   "metadata": {},
   "source": [
    "## Model Interpretation:\n",
    "The most important features for this model are the waterpoint being categorized as dry, the altitude of the well and the year it was built/installed. There are quite a few 0 values in the GPS height column so looking deeper into the accuracy of those numbers may be useful to improve model performance. Also interestingly, not all of the waterpoints that are described as \"dry\" are labeled as non functional. "
   ]
  },
  {
   "cell_type": "markdown",
   "metadata": {},
   "source": [
    "## Conclusion/Next Steps: \n",
    "This model is able to accurately categorize a failing/failed water source 82% of the time, while detecting 75 percent of the total sources in need of repair or replacement. This is a good starting point and results in a much more efficient approach compared to a nationwide routine inspection of all wells. The major limitations of this model lie with the data itself and some improvement in performance could be gained by:\n",
    "1. Reclassifying/aggregating the extensive list of funders/installers.\n",
    "2. Looking deeper into GPS height, which was one of our top features in terms of performance.\n",
    "3. Ranking flagged sites in terms of urgency."
   ]
  },
  {
   "cell_type": "markdown",
   "metadata": {},
   "source": [
    "## Graphing Data"
   ]
  },
  {
   "cell_type": "code",
   "execution_count": 32,
   "metadata": {
    "ExecuteTime": {
     "end_time": "2022-05-12T19:53:15.652085Z",
     "start_time": "2022-05-12T19:53:15.635907Z"
    }
   },
   "outputs": [],
   "source": [
    "regions = combined_df.groupby('region')['status_group'].value_counts().unstack()\n",
    "regions['total'] = regions['non functional']+regions['functional needs repair']+regions['functional']\n",
    "regions['failure_rate'] = (regions['non functional']+regions['functional needs repair'])/regions['total']\n",
    "regions = regions.sort_values('failure_rate', ascending=False)"
   ]
  },
  {
   "cell_type": "code",
   "execution_count": 227,
   "metadata": {
    "ExecuteTime": {
     "end_time": "2022-05-09T21:11:28.603521Z",
     "start_time": "2022-05-09T21:11:28.595692Z"
    }
   },
   "outputs": [],
   "source": [
    "regions.reset_index(inplace=True)"
   ]
  },
  {
   "cell_type": "code",
   "execution_count": 245,
   "metadata": {
    "ExecuteTime": {
     "end_time": "2022-05-09T21:20:26.219615Z",
     "start_time": "2022-05-09T21:20:26.005517Z"
    }
   },
   "outputs": [
    {
     "data": {
      "image/png": "[encoded data removed]",
      "text/plain": [
       "<Figure size 1008x576 with 1 Axes>"
      ]
     },
     "metadata": {},
     "output_type": "display_data"
    }
   ],
   "source": [
    "ax = plt.subplots(figsize=(14,8))\n",
    "sns.set_theme(style=\"darkgrid\")\n",
    "sns.set()\n",
    "ax = sns.barplot(\n",
    "    y = regions['region'], \n",
    "    x = regions['failure_rate']*100, \n",
    "    color = \"tab:blue\",\n",
    "    data = regions, orient=\"h\")\n",
    "ax.set_xlabel(\"Failure Rate\", fontsize=13)\n",
    "ax.set_ylabel(\"Region\", fontsize=13)\n",
    "ax.set_title(\"Waterpoint Failure By Region\", fontsize=16)\n",
    "    \n",
    "ax.xaxis.set_major_formatter(mtick.PercentFormatter());\n"
   ]
  },
  {
   "cell_type": "code",
   "execution_count": 739,
   "metadata": {
    "ExecuteTime": {
     "end_time": "2022-05-16T22:47:32.795079Z",
     "start_time": "2022-05-16T22:47:32.775852Z"
    }
   },
   "outputs": [
    {
     "data": {
      "text/plain": [
       "count     59400.000000\n",
       "mean        317.650385\n",
       "std        2997.574558\n",
       "min           0.000000\n",
       "25%           0.000000\n",
       "50%           0.000000\n",
       "75%          20.000000\n",
       "max      350000.000000\n",
       "Name: amount_tsh, dtype: float64"
      ]
     },
     "execution_count": 739,
     "metadata": {},
     "output_type": "execute_result"
    }
   ],
   "source": [
    "combined_df['amount_tsh'].describe()"
   ]
  },
  {
   "cell_type": "code",
   "execution_count": 748,
   "metadata": {
    "ExecuteTime": {
     "end_time": "2022-05-16T22:53:50.594456Z",
     "start_time": "2022-05-16T22:53:50.569181Z"
    }
   },
   "outputs": [
    {
     "data": {
      "text/plain": [
       "enough          33186\n",
       "insufficient    15129\n",
       "dry              6246\n",
       "seasonal         4050\n",
       "unknown           789\n",
       "Name: quantity, dtype: int64"
      ]
     },
     "execution_count": 748,
     "metadata": {},
     "output_type": "execute_result"
    }
   ],
   "source": [
    "combined_df['quantity'].value_counts()"
   ]
  },
  {
   "cell_type": "code",
   "execution_count": 745,
   "metadata": {
    "ExecuteTime": {
     "end_time": "2022-05-16T22:52:41.769010Z",
     "start_time": "2022-05-16T22:52:41.731334Z"
    }
   },
   "outputs": [],
   "source": [
    "quantities = combined_df.groupby('quantity')['status_group'].value_counts().unstack()\n",
    "quantities['total'] = quantities['non functional']+quantities['functional needs repair']+quantities['functional']\n",
    "quantities['failure_rate'] = (quantities['non functional']+quantities['functional needs repair'])/quantities['total']\n",
    "quantities = quantities.sort_values('failure_rate', ascending=False)"
   ]
  },
  {
   "cell_type": "code",
   "execution_count": 751,
   "metadata": {
    "ExecuteTime": {
     "end_time": "2022-05-16T22:55:51.230610Z",
     "start_time": "2022-05-16T22:55:51.223778Z"
    }
   },
   "outputs": [],
   "source": [
    "quantities.reset_index(inplace=True)"
   ]
  },
  {
   "cell_type": "code",
   "execution_count": 753,
   "metadata": {
    "ExecuteTime": {
     "end_time": "2022-05-16T22:56:20.790433Z",
     "start_time": "2022-05-16T22:56:20.664111Z"
    }
   },
   "outputs": [
    {
     "data": {
      "image/png": "[encoded data removed]",
      "text/plain": [
       "<Figure size 864x432 with 1 Axes>"
      ]
     },
     "metadata": {},
     "output_type": "display_data"
    }
   ],
   "source": [
    "ax = plt.subplots(figsize=(12,6))\n",
    "sns.set_theme(style=\"darkgrid\")\n",
    "sns.set()\n",
    "ax = sns.barplot(\n",
    "    y = quantities['quantity'], \n",
    "    x = quantities['failure_rate']*100, \n",
    "    color = \"tab:blue\",\n",
    "    data = quantities, orient=\"h\")\n",
    "ax.set_xlabel(\"Failure Rate\", fontsize=13)\n",
    "ax.set_ylabel(\"Quantity\", fontsize=13)\n",
    "ax.set_title(\"Waterpoint Failure By Quantity Group\", fontsize=16)\n",
    "    \n",
    "ax.xaxis.set_major_formatter(mtick.PercentFormatter());"
   ]
  },
  {
   "cell_type": "code",
   "execution_count": 814,
   "metadata": {
    "ExecuteTime": {
     "end_time": "2022-05-17T00:04:41.548119Z",
     "start_time": "2022-05-17T00:04:41.519355Z"
    }
   },
   "outputs": [],
   "source": [
    "combined_df.loc[combined_df['gps_height'] >=0, 'height_group'] = '0-500' \n",
    "combined_df.loc[combined_df['gps_height'] >=500, 'height_group'] = '500-1000'\n",
    "combined_df.loc[combined_df['gps_height'] >=1000, 'height_group'] = '1000-1500'\n",
    "combined_df.loc[combined_df['gps_height'] >=1500, 'height_group'] = '1500-2000'\n",
    "combined_df.loc[combined_df['gps_height'] >=2000, 'height_group'] = '2000-2500'\n",
    "combined_df.loc[combined_df['gps_height'] >=2500, 'height_group'] = '2500-3000'"
   ]
  },
  {
   "cell_type": "code",
   "execution_count": 817,
   "metadata": {
    "ExecuteTime": {
     "end_time": "2022-05-17T00:04:45.885888Z",
     "start_time": "2022-05-17T00:04:45.846668Z"
    }
   },
   "outputs": [],
   "source": [
    "alts = combined_df.groupby('height_group')['status_group'].value_counts().unstack()\n",
    "alts['total'] = alts['non functional']+alts['functional needs repair']+alts['functional']\n",
    "alts['failure_rate'] = (alts['non functional']+alts['functional needs repair'])/alts['total']\n",
    "alts = alts.sort_values('failure_rate', ascending=False)\n",
    "alts.reset_index(inplace=True)"
   ]
  },
  {
   "cell_type": "code",
   "execution_count": 819,
   "metadata": {
    "ExecuteTime": {
     "end_time": "2022-05-17T00:06:51.440729Z",
     "start_time": "2022-05-17T00:06:51.311693Z"
    },
    "scrolled": false
   },
   "outputs": [
    {
     "data": {
      "image/png": "[encoded data removed]",
      "text/plain": [
       "<Figure size 864x432 with 1 Axes>"
      ]
     },
     "metadata": {},
     "output_type": "display_data"
    }
   ],
   "source": [
    "ax = plt.subplots(figsize=(12,6))\n",
    "sns.set_theme(style=\"darkgrid\")\n",
    "sns.set()\n",
    "ax = sns.barplot(\n",
    "    y = alts['height_group'], \n",
    "    x = alts['failure_rate']*100, \n",
    "    color = \"tab:blue\",\n",
    "    data = alts, orient=\"h\")\n",
    "ax.set_xlabel(\"Failure Rate\", fontsize=13)\n",
    "ax.set_ylabel(\"Height Range\", fontsize=13)\n",
    "ax.set_title(\"Waterpoint Failure By GPS Height\", fontsize=16)\n",
    "    \n",
    "ax.xaxis.set_major_formatter(mtick.PercentFormatter());"
   ]
  },
  {
   "cell_type": "code",
   "execution_count": 821,
   "metadata": {
    "ExecuteTime": {
     "end_time": "2022-05-17T00:14:28.121926Z",
     "start_time": "2022-05-17T00:14:28.059733Z"
    }
   },
   "outputs": [],
   "source": [
    "types = combined_df.groupby('waterpoint_type')['status_group'].value_counts().unstack()\n",
    "types['total'] = types['non functional']+types['functional needs repair']+types['functional']\n",
    "types['failure_rate'] = (types['non functional']+types['functional needs repair'])/types['total']\n",
    "types = types.sort_values('failure_rate', ascending=False)\n",
    "types.reset_index(inplace=True)"
   ]
  },
  {
   "cell_type": "code",
   "execution_count": 824,
   "metadata": {
    "ExecuteTime": {
     "end_time": "2022-05-17T00:15:41.712533Z",
     "start_time": "2022-05-17T00:15:41.582190Z"
    }
   },
   "outputs": [
    {
     "data": {
      "image/png": "[encoded data removed]",
      "text/plain": [
       "<Figure size 864x432 with 1 Axes>"
      ]
     },
     "metadata": {},
     "output_type": "display_data"
    }
   ],
   "source": [
    "ax = plt.subplots(figsize=(12,6))\n",
    "sns.set_theme(style=\"darkgrid\")\n",
    "sns.set()\n",
    "ax = sns.barplot(\n",
    "    y = types['waterpoint_type'], \n",
    "    x = types['failure_rate']*100, \n",
    "    color = \"tab:blue\",\n",
    "    data = types, orient=\"h\")\n",
    "ax.set_xlabel(\"Failure Rate\", fontsize=13)\n",
    "ax.set_ylabel(\"Waterpoint Type\", fontsize=13)\n",
    "ax.set_title(\"Waterpoint Failure By Type\", fontsize=16)\n",
    "    \n",
    "ax.xaxis.set_major_formatter(mtick.PercentFormatter());"
   ]
  },
  {
   "cell_type": "code",
   "execution_count": null,
   "metadata": {},
   "outputs": [],
   "source": []
  }
 ],
 "metadata": {
  "kernelspec": {
   "display_name": "Python 3",
   "language": "python",
   "name": "python3"
  },
  "language_info": {
   "codemirror_mode": {
    "name": "ipython",
    "version": 3
   },
   "file_extension": ".py",
   "mimetype": "text/x-python",
   "name": "python",
   "nbconvert_exporter": "python",
   "pygments_lexer": "ipython3",
   "version": "3.8.5"
  }
 },
 "nbformat": 4,
 "nbformat_minor": 4
}
